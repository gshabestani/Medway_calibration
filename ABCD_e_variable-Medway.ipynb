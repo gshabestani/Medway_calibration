{
 "cells": [
  {
   "cell_type": "markdown",
   "metadata": {},
   "source": [
    "# ABCD Function"
   ]
  },
  {
   "cell_type": "code",
   "execution_count": 44,
   "metadata": {},
   "outputs": [],
   "source": [
    "import numpy as np\n",
    "import pandas as pd\n",
    "import math\n",
    "import matplotlib.pyplot as plt"
   ]
  },
  {
   "cell_type": "code",
   "execution_count": 45,
   "metadata": {},
   "outputs": [],
   "source": [
    "def ABCD(p,PE,par):\n",
    "    \n",
    "    \"\"\"\n",
    "    This function simulate streamflow by ABCD model(Thomas 1981) . the inputs are \n",
    "    p:precipitation\n",
    "    \n",
    "    par: [a,b,c,d,S0,G0] model parameters\n",
    "    a:Propensity of runoff to occur before soil is saturated\n",
    "    b:Maximum daily water consumption \n",
    "    c:Baseflow index, or the ratio of baseflow to total runoff\n",
    "    d:Reciprocal of groundwater residence time\n",
    "    S0:initial soil moisture\n",
    "    G0:initial ground water storage\n",
    "    PE:ptential evapotranspiration\n",
    "    \n",
    "    \n",
    "    \"\"\"\n",
    "    \n",
    "    \n",
    "    a=par[0]\n",
    "    b=par[1]\n",
    "    c=par[2]\n",
    "    d=par[3]\n",
    "    W=np.zeros(len(p))\n",
    "    Y=np.zeros(len(p))\n",
    "    Q=np.zeros(len(p))\n",
    "    S=np.zeros(len(p))\n",
    "    G=np.zeros(len(p))\n",
    "    E=np.zeros(len(p))\n",
    "    GR=np.zeros(len(p))\n",
    "    DR=np.zeros(len(p))\n",
    "    \n",
    "    S[0]=10\n",
    "    G[0]=10\n",
    "\n",
    "\n",
    "    for t in range(1,len(p)):\n",
    "        W[t]=p[t]+S[t-1]\n",
    "        Y[t]=(W[t]+b)/(2*a)-np.sqrt((0.5*(W[t]+b)/a)**2-(b*W[t]/a))\n",
    "        S[t]=Y[t]*np.exp(-PE[t]/b)\n",
    "        GR[t]=c*(W[t]-Y[t])\n",
    "        DR[t]=(1-c)*(W[t]-Y[t])\n",
    "        G[t]=(c*(W[t]-Y[t])+G[t-1])/(1+d)\n",
    "        Q[t]=(1-c)*(W[t]-Y[t])+d*G[t]\n",
    "    \n",
    "    return Q,Y,G,S"
   ]
  },
  {
   "cell_type": "code",
   "execution_count": 46,
   "metadata": {},
   "outputs": [],
   "source": [
    "def PET(phi,J,Tmax,Tmin):\n",
    "    \"\"\"\n",
    "    calculate potential evapotranspiration by Shuttleworth(1993)\n",
    "    inputs:\n",
    "    J=julian day\n",
    "    phi=latitude in radian\n",
    "    Tmax & Tmin= max and min temprature\n",
    "\n",
    "    \"\"\"\n",
    "    dr=1+0.033*np.cos(2*np.pi/365*J)\n",
    "    delta=0.4093*np.sin(2*np.pi/365*J-1.405)\n",
    "    omega=np.arccos(-1*np.tan(phi)*np.tan(delta))\n",
    "    \n",
    "    SR=0.6059*dr*(omega*np.sin(dr)*np.sin(delta)+np.cos(phi)*np.cos(delta)*np.sin(omega))\n",
    "    Tave=(Tmax+Tmin)/2\n",
    "    pe=0.0023*SR*(Tmax-Tmin)**0.5*(Tave+17.8)\n",
    "    return pe"
   ]
  },
  {
   "cell_type": "code",
   "execution_count": 47,
   "metadata": {},
   "outputs": [],
   "source": [
    "def e_fun(emax,emin,j):\n",
    "    e=(emax+emin)/2+np.sin(2*math.pi*j/365)*((emax+emin)/2)\n",
    "    return e\n",
    "\n",
    "\n",
    "\n",
    "def SnowMelt(P,T,emin,emax,j,Tb,Tbm):\n",
    "    \n",
    "    Pe=np.ones(len(P))\n",
    "    A=np.zeros(len(P))\n",
    "    M=np.zeros(len(P))\n",
    "    for t in range(1,(len(P))):\n",
    "        e=(emax+emin)/2+np.sin(2*math.pi*j[t]/365)*((emax+emin)/2)\n",
    "        if T[t]< Tb:\n",
    "            Pe[t]=precip[t]\n",
    "            A[t]=A[t-1]-M[t-1]+P[t]\n",
    "        if T[t]>= Tb:\n",
    "            M[t]=min(A[t-1],e*(T[t]-Tbm))\n",
    "            Pe[t]=P[t]+M[t]\n",
    "            A[t]=A[t-1]-M[t]\n",
    "    return Pe\n",
    "\n",
    "def snowMelt_cons_e(P,T,e,j,Tb,Tbm):\n",
    "    \n",
    "    Pe=np.ones(len(P))\n",
    "    A=np.zeros(len(P))\n",
    "    M=np.zeros(len(P))\n",
    "    for t in range(1,(len(P))):\n",
    "        \n",
    "        if T[t]< Tb:\n",
    "            Pe[t]=precip[t]\n",
    "            A[t]=A[t-1]-M[t-1]+P[t]\n",
    "        if T[t]>= Tb:\n",
    "            M[t]=min(A[t-1],e*(T[t]-Tbm))\n",
    "            Pe[t]=P[t]+M[t]\n",
    "            A[t]=A[t-1]-M[t]\n",
    "    return Pe"
   ]
  },
  {
   "cell_type": "code",
   "execution_count": 48,
   "metadata": {},
   "outputs": [],
   "source": [
    "def NSE(Qs,Qobs):\n",
    "    ''''\n",
    "    The Nash–Sutcliffe model efficiency coefficient (NSE) is used to assess the predictive power of hydrological models\n",
    "    Nash–Sutcliffe efficiency can range from −∞ to 1. An efficiency of 1 (NSE = 1) corresponds to a perfect match of modeled discharge to the observed data.\n",
    "    An efficiency of 0 (NSE = 0) indicates that the model predictions are as accurate as the mean of the observed data,\n",
    "    whereas an efficiency less than zero (NSE < 0) occurs when the observed mean is a better predictor than the model\n",
    "    Qs: simulated flow\n",
    "    Qobs: observed flow\n",
    "    '''\n",
    "    MSE= np.mean((Qs-Qobs)**2)\n",
    "    NSE=1-MSE/np.var(Qobs,ddof=1)\n",
    "    return NSE"
   ]
  },
  {
   "cell_type": "code",
   "execution_count": 49,
   "metadata": {},
   "outputs": [],
   "source": [
    "def LBE(S,O,prime=False):\n",
    "    mu_O,var_O,mu_S,var_S,rho = BLN3_moments(O,S)\n",
    "    \n",
    "    Co = np.sqrt(var_O)/mu_O#Eq. 18\n",
    "    alpha = np.sqrt(var_S)/np.sqrt(var_O)\n",
    "    delta = 1.-mu_S/mu_O\n",
    "    beta = 1.-delta\n",
    "\n",
    "    if prime == False:\n",
    "        LBE_hat = 2.*alpha*rho-alpha**2.-(delta**2)/(Co**2) #Lamontagne et al. (2020) eq. 18a\n",
    "    elif prime == True:\n",
    "        LBE_hat = 1.-np.sqrt((beta-1.)**2.+(alpha-1.)**2.+(rho-1.)**2.) #Lamontagne et al. (2020) eq. 18b\n",
    "    return LBE_hat\n",
    "def BLN3_moments(O,S):\n",
    "    U,tau_O = LN3_trans(O)\n",
    "    V,tau_S = LN3_trans(S)\n",
    "    \n",
    "    U_bar = np.mean(U)\n",
    "    V_bar = np.mean(V)\n",
    "    var_U = np.var(U,ddof=1)\n",
    "    var_V = np.var(V,ddof=1)\n",
    "    cov_UV = np.cov(U,V,rowvar=False,ddof=None)[0,1]\n",
    "    \n",
    "    mu_O = tau_O+np.exp(U_bar+var_U/2.)\n",
    "    mu_S = tau_S+np.exp(V_bar+var_V/2.)\n",
    "    var_O = np.exp(2.*U_bar+var_U)*(np.exp(var_U)-1.)\n",
    "    var_S = np.exp(2.*V_bar+var_V)*(np.exp(var_V)-1.)\n",
    "    \n",
    "    rho = (np.exp(cov_UV)-1.)/np.sqrt((np.exp(var_U)-1.)*(np.exp(var_V)-1.))\n",
    "    return mu_O,var_O,mu_S,var_S,rho\n",
    "\n",
    "def stedinger_tau(X):\n",
    "    if X.min()+X.max()-2.*np.median(X)>0:\n",
    "        tau = (X.min()*X.max()-np.median(X)**2)/(X.min()+X.max()-2.*np.median(X))\n",
    "    else:\n",
    "        tau = 0.\n",
    "    return tau\n",
    "\n",
    "def LN3_trans(X):\n",
    "    tau = stedinger_tau(X)\n",
    "    Y = np.log(X-tau)\n",
    "    return Y,tau"
   ]
  },
  {
   "cell_type": "code",
   "execution_count": 50,
   "metadata": {},
   "outputs": [],
   "source": [
    "# period: a vector with the lenght of S and O\n",
    "def LBEm(S,O,period,prime=False):\n",
    "    \n",
    "    mu_Om,mu_Sm,var_Om,var_Sm,mu_SOm = mixture_moments(S,O,period,prime=False)\n",
    "    alpha_m = np.sqrt(var_Sm)/np.sqrt(var_Om)#Lamontagne et al. 2020 eqn. 20\n",
    "    delta_m = 1.-mu_Sm/mu_Om\n",
    "    Co_m = np.sqrt(var_Om)/mu_Om\n",
    "    r_m = (mu_SOm-mu_Om*mu_Sm)/(np.sqrt(var_Om)*np.sqrt(var_Sm))\n",
    "    \n",
    "    if prime == False:\n",
    "        LBEm_hat = 2*alpha_m*r_m-alpha_m**2-(delta_m**2)/(Co_m**2)#Lamontagne et al. 2020 eqn. 20a\n",
    "    elif prime == True:\n",
    "        LBEm_hat = 1-np.sqrt((delta_m**2)+(alpha_m-1)**2+(r_m-1)**2)#Lamontagne et al. 2020 eqn. 20b\n",
    "    return LBEm_hat\n",
    "\n",
    "\n",
    "def mixture_moments(S,O,period,prime=False):\n",
    "    m = np.size(np.unique(period))\n",
    "    mu_O = np.zeros([m,1])\n",
    "    var_O = np.zeros([m,1])\n",
    "    mu_S = np.zeros([m,1])\n",
    "    var_S = np.zeros([m,1])\n",
    "    rho = np.zeros([m,1])\n",
    "    \n",
    "    for i in range(m):\n",
    "        mu_O[i],var_O[i],mu_S[i],var_S[i],rho[i] = BLN3_moments(O[period==i],S[period==i])\n",
    "    mu_O_hat = np.mean(mu_O)\n",
    "    mu_S_hat = np.mean(mu_S)\n",
    "    \n",
    "    var_O_hat = np.mean(var_O+mu_O**2)-mu_O_hat**2\n",
    "    var_S_hat = np.mean(var_S+mu_S**2)-mu_S_hat**2\n",
    "    \n",
    "    mu_SO_hat = np.mean(mu_S*mu_O+rho*np.sqrt(var_S)*np.sqrt(var_O))\n",
    "    return mu_O_hat,mu_S_hat,var_O_hat,var_S_hat,mu_SO_hat\n",
    "\n",
    "def BLN3_moments(O,S):\n",
    "    U,tau_O = LN3_trans(O)\n",
    "    V,tau_S = LN3_trans(S)\n",
    "    \n",
    "    U_bar = np.mean(U)\n",
    "    V_bar = np.mean(V)\n",
    "    var_U = np.var(U,ddof=1)\n",
    "    var_V = np.var(V,ddof=1)\n",
    "    cov_UV = np.cov(U,V,rowvar=False,ddof=None)[0,1]\n",
    "    \n",
    "    mu_O = tau_O+np.exp(U_bar+var_U/2.)\n",
    "    mu_S = tau_S+np.exp(V_bar+var_V/2.)\n",
    "    var_O = np.exp(2.*U_bar+var_U)*(np.exp(var_U)-1.)\n",
    "    var_S = np.exp(2.*V_bar+var_V)*(np.exp(var_V)-1.)\n",
    "    \n",
    "    rho = (np.exp(cov_UV)-1.)/np.sqrt((np.exp(var_U)-1.)*(np.exp(var_V)-1.))\n",
    "    return mu_O,var_O,mu_S,var_S,rho\n",
    "\n",
    "def stedinger_tau(X):\n",
    "    if X.min()+X.max()-2.*np.median(X)>0:\n",
    "        tau = (X.min()*X.max()-np.median(X)**2)/(X.min()+X.max()-2.*np.median(X))\n",
    "    else:\n",
    "        tau = 0.\n",
    "    return tau\n",
    "\n",
    "def LN3_trans(X):\n",
    "    tau = stedinger_tau(X)\n",
    "    Y = np.log(X-tau)\n",
    "    return Y,tau"
   ]
  },
  {
   "cell_type": "markdown",
   "metadata": {},
   "source": [
    "# Importing gage data "
   ]
  },
  {
   "cell_type": "code",
   "execution_count": 61,
   "metadata": {},
   "outputs": [
    {
     "data": {
      "text/html": [
       "<div>\n",
       "<style scoped>\n",
       "    .dataframe tbody tr th:only-of-type {\n",
       "        vertical-align: middle;\n",
       "    }\n",
       "\n",
       "    .dataframe tbody tr th {\n",
       "        vertical-align: top;\n",
       "    }\n",
       "\n",
       "    .dataframe thead th {\n",
       "        text-align: right;\n",
       "    }\n",
       "</style>\n",
       "<table border=\"1\" class=\"dataframe\">\n",
       "  <thead>\n",
       "    <tr style=\"text-align: right;\">\n",
       "      <th></th>\n",
       "      <th>ppt (inches)</th>\n",
       "      <th>tmin (degrees F)</th>\n",
       "      <th>tmean (degrees F)</th>\n",
       "      <th>tmax (degrees F)</th>\n",
       "    </tr>\n",
       "    <tr>\n",
       "      <th>Date</th>\n",
       "      <th></th>\n",
       "      <th></th>\n",
       "      <th></th>\n",
       "      <th></th>\n",
       "    </tr>\n",
       "  </thead>\n",
       "  <tbody>\n",
       "    <tr>\n",
       "      <th>1997-11-12</th>\n",
       "      <td>0.00</td>\n",
       "      <td>23.4</td>\n",
       "      <td>37.7</td>\n",
       "      <td>52.0</td>\n",
       "    </tr>\n",
       "    <tr>\n",
       "      <th>1997-11-13</th>\n",
       "      <td>0.00</td>\n",
       "      <td>23.2</td>\n",
       "      <td>34.1</td>\n",
       "      <td>44.9</td>\n",
       "    </tr>\n",
       "    <tr>\n",
       "      <th>1997-11-14</th>\n",
       "      <td>0.21</td>\n",
       "      <td>25.3</td>\n",
       "      <td>33.9</td>\n",
       "      <td>42.5</td>\n",
       "    </tr>\n",
       "    <tr>\n",
       "      <th>1997-11-15</th>\n",
       "      <td>1.32</td>\n",
       "      <td>26.1</td>\n",
       "      <td>31.2</td>\n",
       "      <td>36.3</td>\n",
       "    </tr>\n",
       "    <tr>\n",
       "      <th>1997-11-16</th>\n",
       "      <td>0.00</td>\n",
       "      <td>25.5</td>\n",
       "      <td>31.6</td>\n",
       "      <td>37.8</td>\n",
       "    </tr>\n",
       "  </tbody>\n",
       "</table>\n",
       "</div>"
      ],
      "text/plain": [
       "            ppt (inches)  tmin (degrees F)  tmean (degrees F)  \\\n",
       "Date                                                            \n",
       "1997-11-12          0.00              23.4               37.7   \n",
       "1997-11-13          0.00              23.2               34.1   \n",
       "1997-11-14          0.21              25.3               33.9   \n",
       "1997-11-15          1.32              26.1               31.2   \n",
       "1997-11-16          0.00              25.5               31.6   \n",
       "\n",
       "            tmax (degrees F)  \n",
       "Date                          \n",
       "1997-11-12              52.0  \n",
       "1997-11-13              44.9  \n",
       "1997-11-14              42.5  \n",
       "1997-11-15              36.3  \n",
       "1997-11-16              37.8  "
      ]
     },
     "execution_count": 61,
     "metadata": {},
     "output_type": "execute_result"
    }
   ],
   "source": [
    "PRISM=pd.read_csv('PRISM_medway.csv',parse_dates=['Date'],index_col='Date')\n",
    "ppt=PRISM['ppt (inches)']\n",
    "PRISM.head()"
   ]
  },
  {
   "cell_type": "code",
   "execution_count": 62,
   "metadata": {},
   "outputs": [
    {
     "data": {
      "text/html": [
       "<div>\n",
       "<style scoped>\n",
       "    .dataframe tbody tr th:only-of-type {\n",
       "        vertical-align: middle;\n",
       "    }\n",
       "\n",
       "    .dataframe tbody tr th {\n",
       "        vertical-align: top;\n",
       "    }\n",
       "\n",
       "    .dataframe thead th {\n",
       "        text-align: right;\n",
       "    }\n",
       "</style>\n",
       "<table border=\"1\" class=\"dataframe\">\n",
       "  <thead>\n",
       "    <tr style=\"text-align: right;\">\n",
       "      <th></th>\n",
       "      <th>Discharge[ft3/s]</th>\n",
       "    </tr>\n",
       "    <tr>\n",
       "      <th>date</th>\n",
       "      <th></th>\n",
       "    </tr>\n",
       "  </thead>\n",
       "  <tbody>\n",
       "    <tr>\n",
       "      <th>1997-11-12</th>\n",
       "      <td>59.0</td>\n",
       "    </tr>\n",
       "    <tr>\n",
       "      <th>1997-11-13</th>\n",
       "      <td>49.0</td>\n",
       "    </tr>\n",
       "    <tr>\n",
       "      <th>1997-11-14</th>\n",
       "      <td>44.0</td>\n",
       "    </tr>\n",
       "    <tr>\n",
       "      <th>1997-11-15</th>\n",
       "      <td>41.0</td>\n",
       "    </tr>\n",
       "    <tr>\n",
       "      <th>1997-11-16</th>\n",
       "      <td>40.0</td>\n",
       "    </tr>\n",
       "  </tbody>\n",
       "</table>\n",
       "</div>"
      ],
      "text/plain": [
       "            Discharge[ft3/s]\n",
       "date                        \n",
       "1997-11-12              59.0\n",
       "1997-11-13              49.0\n",
       "1997-11-14              44.0\n",
       "1997-11-15              41.0\n",
       "1997-11-16              40.0"
      ]
     },
     "execution_count": 62,
     "metadata": {},
     "output_type": "execute_result"
    }
   ],
   "source": [
    "Q_obs=pd.read_excel('gage01103280.xlsx',parse_dates=True,index_col='date')\n",
    "Q_obs.head()"
   ]
  },
  {
   "cell_type": "code",
   "execution_count": 64,
   "metadata": {},
   "outputs": [
    {
     "data": {
      "text/html": [
       "<div>\n",
       "<style scoped>\n",
       "    .dataframe tbody tr th:only-of-type {\n",
       "        vertical-align: middle;\n",
       "    }\n",
       "\n",
       "    .dataframe tbody tr th {\n",
       "        vertical-align: top;\n",
       "    }\n",
       "\n",
       "    .dataframe thead th {\n",
       "        text-align: right;\n",
       "    }\n",
       "</style>\n",
       "<table border=\"1\" class=\"dataframe\">\n",
       "  <thead>\n",
       "    <tr style=\"text-align: right;\">\n",
       "      <th></th>\n",
       "      <th>Discharge[ft3/s]</th>\n",
       "      <th>ppt (inches)</th>\n",
       "      <th>tmin (degrees F)</th>\n",
       "      <th>tmean (degrees F)</th>\n",
       "      <th>tmax (degrees F)</th>\n",
       "      <th>Qobs</th>\n",
       "    </tr>\n",
       "    <tr>\n",
       "      <th>date</th>\n",
       "      <th></th>\n",
       "      <th></th>\n",
       "      <th></th>\n",
       "      <th></th>\n",
       "      <th></th>\n",
       "      <th></th>\n",
       "    </tr>\n",
       "  </thead>\n",
       "  <tbody>\n",
       "    <tr>\n",
       "      <th>1997-11-12</th>\n",
       "      <td>59.0</td>\n",
       "      <td>0.00</td>\n",
       "      <td>23.4</td>\n",
       "      <td>37.7</td>\n",
       "      <td>52.0</td>\n",
       "      <td>0.033404</td>\n",
       "    </tr>\n",
       "    <tr>\n",
       "      <th>1997-11-13</th>\n",
       "      <td>49.0</td>\n",
       "      <td>0.00</td>\n",
       "      <td>23.2</td>\n",
       "      <td>34.1</td>\n",
       "      <td>44.9</td>\n",
       "      <td>0.027742</td>\n",
       "    </tr>\n",
       "    <tr>\n",
       "      <th>1997-11-14</th>\n",
       "      <td>44.0</td>\n",
       "      <td>0.21</td>\n",
       "      <td>25.3</td>\n",
       "      <td>33.9</td>\n",
       "      <td>42.5</td>\n",
       "      <td>0.024912</td>\n",
       "    </tr>\n",
       "    <tr>\n",
       "      <th>1997-11-15</th>\n",
       "      <td>41.0</td>\n",
       "      <td>1.32</td>\n",
       "      <td>26.1</td>\n",
       "      <td>31.2</td>\n",
       "      <td>36.3</td>\n",
       "      <td>0.023213</td>\n",
       "    </tr>\n",
       "    <tr>\n",
       "      <th>1997-11-16</th>\n",
       "      <td>40.0</td>\n",
       "      <td>0.00</td>\n",
       "      <td>25.5</td>\n",
       "      <td>31.6</td>\n",
       "      <td>37.8</td>\n",
       "      <td>0.022647</td>\n",
       "    </tr>\n",
       "  </tbody>\n",
       "</table>\n",
       "</div>"
      ],
      "text/plain": [
       "            Discharge[ft3/s]  ppt (inches)  tmin (degrees F)  \\\n",
       "date                                                           \n",
       "1997-11-12              59.0          0.00              23.4   \n",
       "1997-11-13              49.0          0.00              23.2   \n",
       "1997-11-14              44.0          0.21              25.3   \n",
       "1997-11-15              41.0          1.32              26.1   \n",
       "1997-11-16              40.0          0.00              25.5   \n",
       "\n",
       "            tmean (degrees F)  tmax (degrees F)      Qobs  \n",
       "date                                                       \n",
       "1997-11-12               37.7              52.0  0.033404  \n",
       "1997-11-13               34.1              44.9  0.027742  \n",
       "1997-11-14               33.9              42.5  0.024912  \n",
       "1997-11-15               31.2              36.3  0.023213  \n",
       "1997-11-16               31.6              37.8  0.022647  "
      ]
     },
     "execution_count": 64,
     "metadata": {},
     "output_type": "execute_result"
    }
   ],
   "source": [
    "Q_P = Q_obs.join(PRISM)\n",
    "Q_P=Q_P.dropna()\n",
    "Area=1.8316e+9\n",
    "Q_P['Qobs']=Q_P['Discharge[ft3/s]']/Area*1.037e+6\n",
    "\n",
    "Precip=np.array(Q_P['ppt (inches)'].values.tolist())\n",
    "#Q_P = Q_P[Q_P['delta'] >= 0]\n",
    "#Q_P['ppt']=ppt\n",
    "Q_P.head()"
   ]
  },
  {
   "cell_type": "code",
   "execution_count": 66,
   "metadata": {},
   "outputs": [
    {
     "data": {
      "text/plain": [
       "8170"
      ]
     },
     "execution_count": 66,
     "metadata": {},
     "output_type": "execute_result"
    }
   ],
   "source": [
    "Tmax=Q_P['tmax (degrees F)'].dropna()\n",
    "Tmax=np.array(Tmax.values.tolist())\n",
    "Tmin=Q_P['tmin (degrees F)'].dropna()\n",
    "Tmin=np.array(Tmin.values.tolist())\n",
    "len(Tmin)"
   ]
  },
  {
   "cell_type": "code",
   "execution_count": 67,
   "metadata": {},
   "outputs": [
    {
     "data": {
      "text/html": [
       "<div>\n",
       "<style scoped>\n",
       "    .dataframe tbody tr th:only-of-type {\n",
       "        vertical-align: middle;\n",
       "    }\n",
       "\n",
       "    .dataframe tbody tr th {\n",
       "        vertical-align: top;\n",
       "    }\n",
       "\n",
       "    .dataframe thead th {\n",
       "        text-align: right;\n",
       "    }\n",
       "</style>\n",
       "<table border=\"1\" class=\"dataframe\">\n",
       "  <thead>\n",
       "    <tr style=\"text-align: right;\">\n",
       "      <th></th>\n",
       "      <th>Discharge[ft3/s]</th>\n",
       "      <th>ppt (inches)</th>\n",
       "      <th>tmin (degrees F)</th>\n",
       "      <th>tmean (degrees F)</th>\n",
       "      <th>tmax (degrees F)</th>\n",
       "      <th>Qobs</th>\n",
       "      <th>Date</th>\n",
       "    </tr>\n",
       "    <tr>\n",
       "      <th>date</th>\n",
       "      <th></th>\n",
       "      <th></th>\n",
       "      <th></th>\n",
       "      <th></th>\n",
       "      <th></th>\n",
       "      <th></th>\n",
       "      <th></th>\n",
       "    </tr>\n",
       "  </thead>\n",
       "  <tbody>\n",
       "    <tr>\n",
       "      <th>1997-11-12</th>\n",
       "      <td>59.0</td>\n",
       "      <td>0.00</td>\n",
       "      <td>23.4</td>\n",
       "      <td>37.7</td>\n",
       "      <td>52.0</td>\n",
       "      <td>0.033404</td>\n",
       "      <td>1997-11-12</td>\n",
       "    </tr>\n",
       "    <tr>\n",
       "      <th>1997-11-13</th>\n",
       "      <td>49.0</td>\n",
       "      <td>0.00</td>\n",
       "      <td>23.2</td>\n",
       "      <td>34.1</td>\n",
       "      <td>44.9</td>\n",
       "      <td>0.027742</td>\n",
       "      <td>1997-11-13</td>\n",
       "    </tr>\n",
       "    <tr>\n",
       "      <th>1997-11-14</th>\n",
       "      <td>44.0</td>\n",
       "      <td>0.21</td>\n",
       "      <td>25.3</td>\n",
       "      <td>33.9</td>\n",
       "      <td>42.5</td>\n",
       "      <td>0.024912</td>\n",
       "      <td>1997-11-14</td>\n",
       "    </tr>\n",
       "    <tr>\n",
       "      <th>1997-11-15</th>\n",
       "      <td>41.0</td>\n",
       "      <td>1.32</td>\n",
       "      <td>26.1</td>\n",
       "      <td>31.2</td>\n",
       "      <td>36.3</td>\n",
       "      <td>0.023213</td>\n",
       "      <td>1997-11-15</td>\n",
       "    </tr>\n",
       "    <tr>\n",
       "      <th>1997-11-16</th>\n",
       "      <td>40.0</td>\n",
       "      <td>0.00</td>\n",
       "      <td>25.5</td>\n",
       "      <td>31.6</td>\n",
       "      <td>37.8</td>\n",
       "      <td>0.022647</td>\n",
       "      <td>1997-11-16</td>\n",
       "    </tr>\n",
       "  </tbody>\n",
       "</table>\n",
       "</div>"
      ],
      "text/plain": [
       "            Discharge[ft3/s]  ppt (inches)  tmin (degrees F)  \\\n",
       "date                                                           \n",
       "1997-11-12              59.0          0.00              23.4   \n",
       "1997-11-13              49.0          0.00              23.2   \n",
       "1997-11-14              44.0          0.21              25.3   \n",
       "1997-11-15              41.0          1.32              26.1   \n",
       "1997-11-16              40.0          0.00              25.5   \n",
       "\n",
       "            tmean (degrees F)  tmax (degrees F)      Qobs       Date  \n",
       "date                                                                  \n",
       "1997-11-12               37.7              52.0  0.033404 1997-11-12  \n",
       "1997-11-13               34.1              44.9  0.027742 1997-11-13  \n",
       "1997-11-14               33.9              42.5  0.024912 1997-11-14  \n",
       "1997-11-15               31.2              36.3  0.023213 1997-11-15  \n",
       "1997-11-16               31.6              37.8  0.022647 1997-11-16  "
      ]
     },
     "execution_count": 67,
     "metadata": {},
     "output_type": "execute_result"
    }
   ],
   "source": [
    "Q_P['Date']=Q_P.index\n",
    "\n",
    "Q_P.head()"
   ]
  },
  {
   "cell_type": "code",
   "execution_count": 68,
   "metadata": {},
   "outputs": [
    {
     "data": {
      "text/html": [
       "<div>\n",
       "<style scoped>\n",
       "    .dataframe tbody tr th:only-of-type {\n",
       "        vertical-align: middle;\n",
       "    }\n",
       "\n",
       "    .dataframe tbody tr th {\n",
       "        vertical-align: top;\n",
       "    }\n",
       "\n",
       "    .dataframe thead th {\n",
       "        text-align: right;\n",
       "    }\n",
       "</style>\n",
       "<table border=\"1\" class=\"dataframe\">\n",
       "  <thead>\n",
       "    <tr style=\"text-align: right;\">\n",
       "      <th></th>\n",
       "      <th>Discharge[ft3/s]</th>\n",
       "      <th>ppt (inches)</th>\n",
       "      <th>tmin (degrees F)</th>\n",
       "      <th>tmean (degrees F)</th>\n",
       "      <th>tmax (degrees F)</th>\n",
       "      <th>Qobs</th>\n",
       "      <th>Date</th>\n",
       "    </tr>\n",
       "    <tr>\n",
       "      <th>date</th>\n",
       "      <th></th>\n",
       "      <th></th>\n",
       "      <th></th>\n",
       "      <th></th>\n",
       "      <th></th>\n",
       "      <th></th>\n",
       "      <th></th>\n",
       "    </tr>\n",
       "  </thead>\n",
       "  <tbody>\n",
       "    <tr>\n",
       "      <th>2020-03-21</th>\n",
       "      <td>134.0</td>\n",
       "      <td>0.01</td>\n",
       "      <td>39.4</td>\n",
       "      <td>53.2</td>\n",
       "      <td>67.0</td>\n",
       "      <td>0.075867</td>\n",
       "      <td>2020-03-21</td>\n",
       "    </tr>\n",
       "    <tr>\n",
       "      <th>2020-03-22</th>\n",
       "      <td>115.0</td>\n",
       "      <td>0.00</td>\n",
       "      <td>24.2</td>\n",
       "      <td>37.3</td>\n",
       "      <td>50.3</td>\n",
       "      <td>0.065110</td>\n",
       "      <td>2020-03-22</td>\n",
       "    </tr>\n",
       "    <tr>\n",
       "      <th>2020-03-23</th>\n",
       "      <td>108.0</td>\n",
       "      <td>0.00</td>\n",
       "      <td>25.0</td>\n",
       "      <td>32.5</td>\n",
       "      <td>40.1</td>\n",
       "      <td>0.061147</td>\n",
       "      <td>2020-03-23</td>\n",
       "    </tr>\n",
       "    <tr>\n",
       "      <th>2020-03-24</th>\n",
       "      <td>321.0</td>\n",
       "      <td>1.78</td>\n",
       "      <td>30.4</td>\n",
       "      <td>35.5</td>\n",
       "      <td>40.7</td>\n",
       "      <td>0.181741</td>\n",
       "      <td>2020-03-24</td>\n",
       "    </tr>\n",
       "    <tr>\n",
       "      <th>2020-03-25</th>\n",
       "      <td>380.0</td>\n",
       "      <td>0.00</td>\n",
       "      <td>32.3</td>\n",
       "      <td>41.1</td>\n",
       "      <td>50.0</td>\n",
       "      <td>0.215145</td>\n",
       "      <td>2020-03-25</td>\n",
       "    </tr>\n",
       "  </tbody>\n",
       "</table>\n",
       "</div>"
      ],
      "text/plain": [
       "            Discharge[ft3/s]  ppt (inches)  tmin (degrees F)  \\\n",
       "date                                                           \n",
       "2020-03-21             134.0          0.01              39.4   \n",
       "2020-03-22             115.0          0.00              24.2   \n",
       "2020-03-23             108.0          0.00              25.0   \n",
       "2020-03-24             321.0          1.78              30.4   \n",
       "2020-03-25             380.0          0.00              32.3   \n",
       "\n",
       "            tmean (degrees F)  tmax (degrees F)      Qobs       Date  \n",
       "date                                                                  \n",
       "2020-03-21               53.2              67.0  0.075867 2020-03-21  \n",
       "2020-03-22               37.3              50.3  0.065110 2020-03-22  \n",
       "2020-03-23               32.5              40.1  0.061147 2020-03-23  \n",
       "2020-03-24               35.5              40.7  0.181741 2020-03-24  \n",
       "2020-03-25               41.1              50.0  0.215145 2020-03-25  "
      ]
     },
     "execution_count": 68,
     "metadata": {},
     "output_type": "execute_result"
    }
   ],
   "source": [
    "Q_P.tail()"
   ]
  },
  {
   "cell_type": "code",
   "execution_count": 69,
   "metadata": {},
   "outputs": [
    {
     "data": {
      "text/plain": [
       "8170"
      ]
     },
     "execution_count": 69,
     "metadata": {},
     "output_type": "execute_result"
    }
   ],
   "source": [
    "Q_P['julian']=Q_P['Date'].dt.strftime('%j')\n",
    "#df['DataFrame Column'] = df['DataFrame Column'].astype(float)\n",
    "Q_P['julian']=Q_P['julian'].astype(float)\n",
    "Julian_date=np.array(Q_P['julian'].values.tolist())\n",
    "len(Julian_date)"
   ]
  },
  {
   "cell_type": "code",
   "execution_count": 70,
   "metadata": {},
   "outputs": [],
   "source": [
    "# site inputs latitude\n",
    "lat=0.735847 #radians or 42.1609 decimal degrees\n"
   ]
  },
  {
   "cell_type": "code",
   "execution_count": 73,
   "metadata": {},
   "outputs": [],
   "source": [
    "# preparing input arrays\n",
    "PE=PET(lat,Julian_date,Tmax,Tmin)\n",
    "\n",
    "precip=np.array(Q_P['ppt (inches)'].values.tolist())\n",
    "Tmax=np.array(Q_P['tmax (degrees F)'].values.tolist())\n",
    "Tave=np.array(Q_P['tmean (degrees F)'].values.tolist())\n",
    "Tmin=np.array(Q_P['tmin (degrees F)'].values.tolist())\n",
    "Q_obs=Q_P['Qobs']\n",
    "Q_obs=np.array(Q_obs.values.tolist())\n"
   ]
  },
  {
   "cell_type": "markdown",
   "metadata": {},
   "source": [
    "### generation of period vector"
   ]
  },
  {
   "cell_type": "code",
   "execution_count": 74,
   "metadata": {},
   "outputs": [
    {
     "data": {
      "text/html": [
       "<div>\n",
       "<style scoped>\n",
       "    .dataframe tbody tr th:only-of-type {\n",
       "        vertical-align: middle;\n",
       "    }\n",
       "\n",
       "    .dataframe tbody tr th {\n",
       "        vertical-align: top;\n",
       "    }\n",
       "\n",
       "    .dataframe thead th {\n",
       "        text-align: right;\n",
       "    }\n",
       "</style>\n",
       "<table border=\"1\" class=\"dataframe\">\n",
       "  <thead>\n",
       "    <tr style=\"text-align: right;\">\n",
       "      <th></th>\n",
       "      <th>Discharge[ft3/s]</th>\n",
       "      <th>ppt (inches)</th>\n",
       "      <th>tmin (degrees F)</th>\n",
       "      <th>tmean (degrees F)</th>\n",
       "      <th>tmax (degrees F)</th>\n",
       "      <th>Qobs</th>\n",
       "      <th>Date</th>\n",
       "      <th>julian</th>\n",
       "      <th>month</th>\n",
       "    </tr>\n",
       "    <tr>\n",
       "      <th>date</th>\n",
       "      <th></th>\n",
       "      <th></th>\n",
       "      <th></th>\n",
       "      <th></th>\n",
       "      <th></th>\n",
       "      <th></th>\n",
       "      <th></th>\n",
       "      <th></th>\n",
       "      <th></th>\n",
       "    </tr>\n",
       "  </thead>\n",
       "  <tbody>\n",
       "    <tr>\n",
       "      <th>1997-11-12</th>\n",
       "      <td>59.0</td>\n",
       "      <td>0.00</td>\n",
       "      <td>23.4</td>\n",
       "      <td>37.7</td>\n",
       "      <td>52.0</td>\n",
       "      <td>0.033404</td>\n",
       "      <td>1997-11-12</td>\n",
       "      <td>316.0</td>\n",
       "      <td>11</td>\n",
       "    </tr>\n",
       "    <tr>\n",
       "      <th>1997-11-13</th>\n",
       "      <td>49.0</td>\n",
       "      <td>0.00</td>\n",
       "      <td>23.2</td>\n",
       "      <td>34.1</td>\n",
       "      <td>44.9</td>\n",
       "      <td>0.027742</td>\n",
       "      <td>1997-11-13</td>\n",
       "      <td>317.0</td>\n",
       "      <td>11</td>\n",
       "    </tr>\n",
       "    <tr>\n",
       "      <th>1997-11-14</th>\n",
       "      <td>44.0</td>\n",
       "      <td>0.21</td>\n",
       "      <td>25.3</td>\n",
       "      <td>33.9</td>\n",
       "      <td>42.5</td>\n",
       "      <td>0.024912</td>\n",
       "      <td>1997-11-14</td>\n",
       "      <td>318.0</td>\n",
       "      <td>11</td>\n",
       "    </tr>\n",
       "    <tr>\n",
       "      <th>1997-11-15</th>\n",
       "      <td>41.0</td>\n",
       "      <td>1.32</td>\n",
       "      <td>26.1</td>\n",
       "      <td>31.2</td>\n",
       "      <td>36.3</td>\n",
       "      <td>0.023213</td>\n",
       "      <td>1997-11-15</td>\n",
       "      <td>319.0</td>\n",
       "      <td>11</td>\n",
       "    </tr>\n",
       "    <tr>\n",
       "      <th>1997-11-16</th>\n",
       "      <td>40.0</td>\n",
       "      <td>0.00</td>\n",
       "      <td>25.5</td>\n",
       "      <td>31.6</td>\n",
       "      <td>37.8</td>\n",
       "      <td>0.022647</td>\n",
       "      <td>1997-11-16</td>\n",
       "      <td>320.0</td>\n",
       "      <td>11</td>\n",
       "    </tr>\n",
       "  </tbody>\n",
       "</table>\n",
       "</div>"
      ],
      "text/plain": [
       "            Discharge[ft3/s]  ppt (inches)  tmin (degrees F)  \\\n",
       "date                                                           \n",
       "1997-11-12              59.0          0.00              23.4   \n",
       "1997-11-13              49.0          0.00              23.2   \n",
       "1997-11-14              44.0          0.21              25.3   \n",
       "1997-11-15              41.0          1.32              26.1   \n",
       "1997-11-16              40.0          0.00              25.5   \n",
       "\n",
       "            tmean (degrees F)  tmax (degrees F)      Qobs       Date  julian  \\\n",
       "date                                                                           \n",
       "1997-11-12               37.7              52.0  0.033404 1997-11-12   316.0   \n",
       "1997-11-13               34.1              44.9  0.027742 1997-11-13   317.0   \n",
       "1997-11-14               33.9              42.5  0.024912 1997-11-14   318.0   \n",
       "1997-11-15               31.2              36.3  0.023213 1997-11-15   319.0   \n",
       "1997-11-16               31.6              37.8  0.022647 1997-11-16   320.0   \n",
       "\n",
       "            month  \n",
       "date               \n",
       "1997-11-12     11  \n",
       "1997-11-13     11  \n",
       "1997-11-14     11  \n",
       "1997-11-15     11  \n",
       "1997-11-16     11  "
      ]
     },
     "execution_count": 74,
     "metadata": {},
     "output_type": "execute_result"
    }
   ],
   "source": [
    "Q_P['month'] = pd.DatetimeIndex(Q_P['Date']).month\n",
    "Month_vector=np.array(Q_P['month'].values.tolist())-1\n",
    "Q_P.head()"
   ]
  },
  {
   "cell_type": "markdown",
   "metadata": {},
   "source": [
    "# calibration process"
   ]
  },
  {
   "cell_type": "code",
   "execution_count": 75,
   "metadata": {},
   "outputs": [],
   "source": [
    "# performing calibration process from 1997 to 2008 and validation from 2008 to 2020"
   ]
  },
  {
   "cell_type": "code",
   "execution_count": 76,
   "metadata": {},
   "outputs": [],
   "source": [
    "precip_cal=precip[0:4064]\n",
    "precip_val=precip[4064:]\n",
    "Tmax_cal=Tmax[0:4064]\n",
    "Tmax_val=Tmax[4064:]\n",
    "Tave_cal=Tave[0:4064]\n",
    "Tave_val=Tave[4064:]\n",
    "Tmin_cal=Tmin[0:4064]\n",
    "Tmin_val=Tmin[4064:]\n",
    "PE_cal=PE[0:4064]\n",
    "PE_val=PE[4064:]\n",
    "Q_obs_cal=Q_obs[0:4064]\n",
    "Q_obs_val=Q_obs[4064:]"
   ]
  },
  {
   "cell_type": "code",
   "execution_count": 113,
   "metadata": {},
   "outputs": [],
   "source": [
    "# generating the objective function for optimization\n",
    "\n",
    "def LBE_objective(abcde):\n",
    "    \"\"\"\"\n",
    "    abcde=[a,b,c,d,emax,emin,Tbm]\n",
    "    \"\"\"\n",
    "    alpha=abcde[0:4]\n",
    "    emax=abcde[4]\n",
    "    emin=abcde[5]\n",
    "    Tbm=abcde[5]\n",
    "    \n",
    "    e=e_fun(emax,emin,Julian_date)\n",
    "    \n",
    "    Precip=SnowMelt(precip_cal,Tmax_cal,emin,emax,Julian_date,Tb,Tbm)\n",
    "    Qs,Ys,Gs,Ss=ABCD(Precip,PE,alpha)\n",
    "    E=LBEm(Qs,Q_obs_cal,Month_vector[0:4064],prime=False)\n",
    "    return -E\n",
    "\n"
   ]
  },
  {
   "cell_type": "code",
   "execution_count": 134,
   "metadata": {},
   "outputs": [
    {
     "name": "stderr",
     "output_type": "stream",
     "text": [
      "C:\\Users\\ghaza\\Anaconda3\\lib\\site-packages\\ipykernel_launcher.py:63: RuntimeWarning: divide by zero encountered in log\n",
      "C:\\Users\\ghaza\\Anaconda3\\lib\\site-packages\\numpy\\core\\_methods.py:112: RuntimeWarning: invalid value encountered in subtract\n",
      "  x = asanyarray(arr - arrmean)\n",
      "C:\\Users\\ghaza\\Anaconda3\\lib\\site-packages\\numpy\\lib\\function_base.py:3103: RuntimeWarning: invalid value encountered in subtract\n",
      "  X -= avg[:, None]\n"
     ]
    },
    {
     "data": {
      "text/plain": [
       "      fun: -0.5470872476798669\n",
       " hess_inv: <7x7 LbfgsInvHessProduct with dtype=float64>\n",
       "      jac: array([ 2.229734  , -0.00459176,  0.08428365,  0.56001509,  0.        ,\n",
       "        0.        ,  0.        ])\n",
       "  message: b'CONVERGENCE: REL_REDUCTION_OF_F_<=_FACTR*EPSMCH'\n",
       "     nfev: 1320\n",
       "      nit: 47\n",
       "   status: 0\n",
       "  success: True\n",
       "        x: array([9.50000000e-01, 8.04243540e+00, 3.25153328e-01, 8.04943484e-03,\n",
       "       3.60000000e-02, 1.00000000e-01, 3.20000000e+01])"
      ]
     },
     "execution_count": 134,
     "metadata": {},
     "output_type": "execute_result"
    }
   ],
   "source": [
    "# optimization for LBE\n",
    "from scipy.optimize import minimize\n",
    "\n",
    "a_bnd=(0.95,0.99)\n",
    "c_bnd=(0,1)\n",
    "b_bnd=(0,np.inf)\n",
    "d_bnd=(0,1)\n",
    "emax_bnd=(0.035,0.13)\n",
    "emin_bnd=(0.035,0.13) # 0.035 to 0.13 inches per degree-day Fahrenheit (1.6 to 6.0 mm/degree-day C)\n",
    "Tbm_bnd=(30,34)\n",
    "\n",
    "bnds=(a_bnd,b_bnd,c_bnd,d_bnd,emin_bnd,emax_bnd,Tbm_bnd)\n",
    "Tb=32\n",
    "res=minimize(LBE_objective,x0=[0.95,8,0,0,0.036,0.1,32],bounds=bnds)\n",
    "res"
   ]
  },
  {
   "cell_type": "code",
   "execution_count": 155,
   "metadata": {},
   "outputs": [
    {
     "name": "stderr",
     "output_type": "stream",
     "text": [
      "C:\\Users\\ghaza\\Anaconda3\\lib\\site-packages\\ipykernel_launcher.py:63: RuntimeWarning: divide by zero encountered in log\n",
      "C:\\Users\\ghaza\\Anaconda3\\lib\\site-packages\\numpy\\core\\_methods.py:112: RuntimeWarning: invalid value encountered in subtract\n",
      "  x = asanyarray(arr - arrmean)\n",
      "C:\\Users\\ghaza\\Anaconda3\\lib\\site-packages\\numpy\\lib\\function_base.py:3103: RuntimeWarning: invalid value encountered in subtract\n",
      "  X -= avg[:, None]\n"
     ]
    },
    {
     "ename": "KeyboardInterrupt",
     "evalue": "",
     "output_type": "error",
     "traceback": [
      "\u001b[1;31m---------------------------------------------------------------------------\u001b[0m",
      "\u001b[1;31mKeyboardInterrupt\u001b[0m                         Traceback (most recent call last)",
      "\u001b[1;32m<ipython-input-155-449a95a21c20>\u001b[0m in \u001b[0;36m<module>\u001b[1;34m()\u001b[0m\n\u001b[0;32m     12\u001b[0m \u001b[0mTb\u001b[0m\u001b[1;33m=\u001b[0m\u001b[1;36m0\u001b[0m\u001b[1;33m\u001b[0m\u001b[0m\n\u001b[0;32m     13\u001b[0m \u001b[1;33m\u001b[0m\u001b[0m\n\u001b[1;32m---> 14\u001b[1;33m \u001b[0mres\u001b[0m \u001b[1;33m=\u001b[0m \u001b[0mdifferential_evolution\u001b[0m\u001b[1;33m(\u001b[0m\u001b[0mLBE_objective\u001b[0m\u001b[1;33m,\u001b[0m\u001b[0mbnds\u001b[0m\u001b[1;33m)\u001b[0m\u001b[1;33m\u001b[0m\u001b[0m\n\u001b[0m\u001b[0;32m     15\u001b[0m \u001b[0mres\u001b[0m\u001b[1;33m\u001b[0m\u001b[0m\n",
      "\u001b[1;32m~\\Anaconda3\\lib\\site-packages\\scipy\\optimize\\_differentialevolution.py\u001b[0m in \u001b[0;36mdifferential_evolution\u001b[1;34m(func, bounds, args, strategy, maxiter, popsize, tol, mutation, recombination, seed, callback, disp, polish, init, atol)\u001b[0m\n\u001b[0;32m    221\u001b[0m                                          \u001b[0mcallback\u001b[0m\u001b[1;33m=\u001b[0m\u001b[0mcallback\u001b[0m\u001b[1;33m,\u001b[0m\u001b[1;33m\u001b[0m\u001b[0m\n\u001b[0;32m    222\u001b[0m                                          disp=disp, init=init, atol=atol)\n\u001b[1;32m--> 223\u001b[1;33m     \u001b[1;32mreturn\u001b[0m \u001b[0msolver\u001b[0m\u001b[1;33m.\u001b[0m\u001b[0msolve\u001b[0m\u001b[1;33m(\u001b[0m\u001b[1;33m)\u001b[0m\u001b[1;33m\u001b[0m\u001b[0m\n\u001b[0m\u001b[0;32m    224\u001b[0m \u001b[1;33m\u001b[0m\u001b[0m\n\u001b[0;32m    225\u001b[0m \u001b[1;33m\u001b[0m\u001b[0m\n",
      "\u001b[1;32m~\\Anaconda3\\lib\\site-packages\\scipy\\optimize\\_differentialevolution.py\u001b[0m in \u001b[0;36msolve\u001b[1;34m(self)\u001b[0m\n\u001b[0;32m    585\u001b[0m             \u001b[1;31m# evolve the population by a generation\u001b[0m\u001b[1;33m\u001b[0m\u001b[1;33m\u001b[0m\u001b[0m\n\u001b[0;32m    586\u001b[0m             \u001b[1;32mtry\u001b[0m\u001b[1;33m:\u001b[0m\u001b[1;33m\u001b[0m\u001b[0m\n\u001b[1;32m--> 587\u001b[1;33m                 \u001b[0mnext\u001b[0m\u001b[1;33m(\u001b[0m\u001b[0mself\u001b[0m\u001b[1;33m)\u001b[0m\u001b[1;33m\u001b[0m\u001b[0m\n\u001b[0m\u001b[0;32m    588\u001b[0m             \u001b[1;32mexcept\u001b[0m \u001b[0mStopIteration\u001b[0m\u001b[1;33m:\u001b[0m\u001b[1;33m\u001b[0m\u001b[0m\n\u001b[0;32m    589\u001b[0m                 \u001b[0mwarning_flag\u001b[0m \u001b[1;33m=\u001b[0m \u001b[1;32mTrue\u001b[0m\u001b[1;33m\u001b[0m\u001b[0m\n",
      "\u001b[1;32m~\\Anaconda3\\lib\\site-packages\\scipy\\optimize\\_differentialevolution.py\u001b[0m in \u001b[0;36m__next__\u001b[1;34m(self)\u001b[0m\n\u001b[0;32m    707\u001b[0m \u001b[1;33m\u001b[0m\u001b[0m\n\u001b[0;32m    708\u001b[0m             \u001b[1;31m# determine the energy of the objective function\u001b[0m\u001b[1;33m\u001b[0m\u001b[1;33m\u001b[0m\u001b[0m\n\u001b[1;32m--> 709\u001b[1;33m             \u001b[0menergy\u001b[0m \u001b[1;33m=\u001b[0m \u001b[0mself\u001b[0m\u001b[1;33m.\u001b[0m\u001b[0mfunc\u001b[0m\u001b[1;33m(\u001b[0m\u001b[0mparameters\u001b[0m\u001b[1;33m,\u001b[0m \u001b[1;33m*\u001b[0m\u001b[0mself\u001b[0m\u001b[1;33m.\u001b[0m\u001b[0margs\u001b[0m\u001b[1;33m)\u001b[0m\u001b[1;33m\u001b[0m\u001b[0m\n\u001b[0m\u001b[0;32m    710\u001b[0m             \u001b[0mself\u001b[0m\u001b[1;33m.\u001b[0m\u001b[0m_nfev\u001b[0m \u001b[1;33m+=\u001b[0m \u001b[1;36m1\u001b[0m\u001b[1;33m\u001b[0m\u001b[0m\n\u001b[0;32m    711\u001b[0m \u001b[1;33m\u001b[0m\u001b[0m\n",
      "\u001b[1;32m<ipython-input-113-3984b189a33c>\u001b[0m in \u001b[0;36mLBE_objective\u001b[1;34m(abcde)\u001b[0m\n\u001b[0;32m     13\u001b[0m \u001b[1;33m\u001b[0m\u001b[0m\n\u001b[0;32m     14\u001b[0m     \u001b[0mPrecip\u001b[0m\u001b[1;33m=\u001b[0m\u001b[0mSnowMelt\u001b[0m\u001b[1;33m(\u001b[0m\u001b[0mprecip_cal\u001b[0m\u001b[1;33m,\u001b[0m\u001b[0mTmax_cal\u001b[0m\u001b[1;33m,\u001b[0m\u001b[0memin\u001b[0m\u001b[1;33m,\u001b[0m\u001b[0memax\u001b[0m\u001b[1;33m,\u001b[0m\u001b[0mJulian_date\u001b[0m\u001b[1;33m,\u001b[0m\u001b[0mTb\u001b[0m\u001b[1;33m,\u001b[0m\u001b[0mTbm\u001b[0m\u001b[1;33m)\u001b[0m\u001b[1;33m\u001b[0m\u001b[0m\n\u001b[1;32m---> 15\u001b[1;33m     \u001b[0mQs\u001b[0m\u001b[1;33m,\u001b[0m\u001b[0mYs\u001b[0m\u001b[1;33m,\u001b[0m\u001b[0mGs\u001b[0m\u001b[1;33m,\u001b[0m\u001b[0mSs\u001b[0m\u001b[1;33m=\u001b[0m\u001b[0mABCD\u001b[0m\u001b[1;33m(\u001b[0m\u001b[0mPrecip\u001b[0m\u001b[1;33m,\u001b[0m\u001b[0mPE\u001b[0m\u001b[1;33m,\u001b[0m\u001b[0malpha\u001b[0m\u001b[1;33m)\u001b[0m\u001b[1;33m\u001b[0m\u001b[0m\n\u001b[0m\u001b[0;32m     16\u001b[0m     \u001b[0mE\u001b[0m\u001b[1;33m=\u001b[0m\u001b[0mLBEm\u001b[0m\u001b[1;33m(\u001b[0m\u001b[0mQs\u001b[0m\u001b[1;33m,\u001b[0m\u001b[0mQ_obs_cal\u001b[0m\u001b[1;33m,\u001b[0m\u001b[0mMonth_vector\u001b[0m\u001b[1;33m[\u001b[0m\u001b[1;36m0\u001b[0m\u001b[1;33m:\u001b[0m\u001b[1;36m4064\u001b[0m\u001b[1;33m]\u001b[0m\u001b[1;33m,\u001b[0m\u001b[0mprime\u001b[0m\u001b[1;33m=\u001b[0m\u001b[1;32mFalse\u001b[0m\u001b[1;33m)\u001b[0m\u001b[1;33m\u001b[0m\u001b[0m\n\u001b[0;32m     17\u001b[0m     \u001b[1;32mreturn\u001b[0m \u001b[1;33m-\u001b[0m\u001b[0mE\u001b[0m\u001b[1;33m\u001b[0m\u001b[0m\n",
      "\u001b[1;32m<ipython-input-45-1dabc666a39d>\u001b[0m in \u001b[0;36mABCD\u001b[1;34m(p, PE, par)\u001b[0m\n\u001b[0;32m     41\u001b[0m         \u001b[0mGR\u001b[0m\u001b[1;33m[\u001b[0m\u001b[0mt\u001b[0m\u001b[1;33m]\u001b[0m\u001b[1;33m=\u001b[0m\u001b[0mc\u001b[0m\u001b[1;33m*\u001b[0m\u001b[1;33m(\u001b[0m\u001b[0mW\u001b[0m\u001b[1;33m[\u001b[0m\u001b[0mt\u001b[0m\u001b[1;33m]\u001b[0m\u001b[1;33m-\u001b[0m\u001b[0mY\u001b[0m\u001b[1;33m[\u001b[0m\u001b[0mt\u001b[0m\u001b[1;33m]\u001b[0m\u001b[1;33m)\u001b[0m\u001b[1;33m\u001b[0m\u001b[0m\n\u001b[0;32m     42\u001b[0m         \u001b[0mDR\u001b[0m\u001b[1;33m[\u001b[0m\u001b[0mt\u001b[0m\u001b[1;33m]\u001b[0m\u001b[1;33m=\u001b[0m\u001b[1;33m(\u001b[0m\u001b[1;36m1\u001b[0m\u001b[1;33m-\u001b[0m\u001b[0mc\u001b[0m\u001b[1;33m)\u001b[0m\u001b[1;33m*\u001b[0m\u001b[1;33m(\u001b[0m\u001b[0mW\u001b[0m\u001b[1;33m[\u001b[0m\u001b[0mt\u001b[0m\u001b[1;33m]\u001b[0m\u001b[1;33m-\u001b[0m\u001b[0mY\u001b[0m\u001b[1;33m[\u001b[0m\u001b[0mt\u001b[0m\u001b[1;33m]\u001b[0m\u001b[1;33m)\u001b[0m\u001b[1;33m\u001b[0m\u001b[0m\n\u001b[1;32m---> 43\u001b[1;33m         \u001b[0mG\u001b[0m\u001b[1;33m[\u001b[0m\u001b[0mt\u001b[0m\u001b[1;33m]\u001b[0m\u001b[1;33m=\u001b[0m\u001b[1;33m(\u001b[0m\u001b[0mc\u001b[0m\u001b[1;33m*\u001b[0m\u001b[1;33m(\u001b[0m\u001b[0mW\u001b[0m\u001b[1;33m[\u001b[0m\u001b[0mt\u001b[0m\u001b[1;33m]\u001b[0m\u001b[1;33m-\u001b[0m\u001b[0mY\u001b[0m\u001b[1;33m[\u001b[0m\u001b[0mt\u001b[0m\u001b[1;33m]\u001b[0m\u001b[1;33m)\u001b[0m\u001b[1;33m+\u001b[0m\u001b[0mG\u001b[0m\u001b[1;33m[\u001b[0m\u001b[0mt\u001b[0m\u001b[1;33m-\u001b[0m\u001b[1;36m1\u001b[0m\u001b[1;33m]\u001b[0m\u001b[1;33m)\u001b[0m\u001b[1;33m/\u001b[0m\u001b[1;33m(\u001b[0m\u001b[1;36m1\u001b[0m\u001b[1;33m+\u001b[0m\u001b[0md\u001b[0m\u001b[1;33m)\u001b[0m\u001b[1;33m\u001b[0m\u001b[0m\n\u001b[0m\u001b[0;32m     44\u001b[0m         \u001b[0mQ\u001b[0m\u001b[1;33m[\u001b[0m\u001b[0mt\u001b[0m\u001b[1;33m]\u001b[0m\u001b[1;33m=\u001b[0m\u001b[1;33m(\u001b[0m\u001b[1;36m1\u001b[0m\u001b[1;33m-\u001b[0m\u001b[0mc\u001b[0m\u001b[1;33m)\u001b[0m\u001b[1;33m*\u001b[0m\u001b[1;33m(\u001b[0m\u001b[0mW\u001b[0m\u001b[1;33m[\u001b[0m\u001b[0mt\u001b[0m\u001b[1;33m]\u001b[0m\u001b[1;33m-\u001b[0m\u001b[0mY\u001b[0m\u001b[1;33m[\u001b[0m\u001b[0mt\u001b[0m\u001b[1;33m]\u001b[0m\u001b[1;33m)\u001b[0m\u001b[1;33m+\u001b[0m\u001b[0md\u001b[0m\u001b[1;33m*\u001b[0m\u001b[0mG\u001b[0m\u001b[1;33m[\u001b[0m\u001b[0mt\u001b[0m\u001b[1;33m]\u001b[0m\u001b[1;33m\u001b[0m\u001b[0m\n\u001b[0;32m     45\u001b[0m \u001b[1;33m\u001b[0m\u001b[0m\n",
      "\u001b[1;31mKeyboardInterrupt\u001b[0m: "
     ]
    }
   ],
   "source": [
    "from scipy.optimize import  differential_evolution\n",
    "\n",
    "a_bnd=(0.95,0.99)\n",
    "c_bnd=(0,1)\n",
    "b_bnd=(0,10000)\n",
    "d_bnd=(0,1)\n",
    "emax_bnd=(0,1)\n",
    "emin_bnd=(0,1)\n",
    "Tbm_bnd=(-2,2)\n",
    "\n",
    "bnds=(a_bnd,b_bnd,c_bnd,d_bnd,emax_bnd,emin_bnd,Tbm_bnd)\n",
    "Tb=0\n",
    "\n",
    "res = differential_evolution(LBE_objective,bnds)\n",
    "res"
   ]
  },
  {
   "cell_type": "code",
   "execution_count": 135,
   "metadata": {},
   "outputs": [
    {
     "data": {
      "text/plain": [
       "8170"
      ]
     },
     "execution_count": 135,
     "metadata": {},
     "output_type": "execute_result"
    }
   ],
   "source": [
    "\n",
    "Precip=SnowMelt(precip,Tmax,res.x[4],res.x[5],Julian_date,Tb,res.x[5])\n",
    "\n",
    "Qs,ys,ground,soil=ABCD(Precip,PE,res.x[0:4])\n",
    "len(Qs)"
   ]
  },
  {
   "cell_type": "code",
   "execution_count": 136,
   "metadata": {},
   "outputs": [
    {
     "data": {
      "text/plain": [
       "0.32001183818140166"
      ]
     },
     "execution_count": 136,
     "metadata": {},
     "output_type": "execute_result"
    }
   ],
   "source": [
    "NSE(Qs[0:4064],Q_obs_cal)"
   ]
  },
  {
   "cell_type": "code",
   "execution_count": 137,
   "metadata": {},
   "outputs": [
    {
     "data": {
      "text/plain": [
       "0.5470872476798669"
      ]
     },
     "execution_count": 137,
     "metadata": {},
     "output_type": "execute_result"
    }
   ],
   "source": [
    "LBEm(Qs[0:4064],Q_obs_cal,Month_vector[0:4064],prime=False)"
   ]
  },
  {
   "cell_type": "code",
   "execution_count": 138,
   "metadata": {},
   "outputs": [
    {
     "data": {
      "text/plain": [
       "0.5710769624444774"
      ]
     },
     "execution_count": 138,
     "metadata": {},
     "output_type": "execute_result"
    }
   ],
   "source": [
    "lnse=NSE(LN3_trans(Qs[0:4064])[0],LN3_trans(Q_obs_cal)[0])\n",
    "lnse"
   ]
  },
  {
   "cell_type": "code",
   "execution_count": 139,
   "metadata": {},
   "outputs": [
    {
     "data": {
      "text/plain": [
       "8170"
      ]
     },
     "execution_count": 139,
     "metadata": {},
     "output_type": "execute_result"
    }
   ],
   "source": [
    "Qsim = Qs.tolist()\n",
    "len(Qsim)"
   ]
  },
  {
   "cell_type": "code",
   "execution_count": 140,
   "metadata": {},
   "outputs": [
    {
     "name": "stderr",
     "output_type": "stream",
     "text": [
      "C:\\Users\\ghaza\\Anaconda3\\lib\\site-packages\\ipykernel_launcher.py:2: RuntimeWarning: divide by zero encountered in log\n",
      "  \n"
     ]
    }
   ],
   "source": [
    "Q_P['Qsim']=Qsim\n",
    "Q_P['LQsim']=np.log(Qsim)\n",
    "Q_P['LQobs']=np.log(Q_obs)\n",
    "Q_P.head()\n",
    "Q_P.to_csv('Q_P.csv')"
   ]
  },
  {
   "cell_type": "code",
   "execution_count": 141,
   "metadata": {},
   "outputs": [],
   "source": [
    "Qsim_2003=Q_P['Qsim'].loc['11-12-2003':'11-12-2004']\n",
    "Qobs_2003=Q_P['Qobs'].loc['11-12-2003':'11-12-2004']"
   ]
  },
  {
   "cell_type": "code",
   "execution_count": 142,
   "metadata": {},
   "outputs": [
    {
     "data": {
      "text/plain": [
       "Text(0.5,1,'years 2003 to 2004')"
      ]
     },
     "execution_count": 142,
     "metadata": {},
     "output_type": "execute_result"
    },
    {
     "data": {
      "image/png": "[encoded data removed]",
      "text/plain": [
       "<Figure size 432x288 with 1 Axes>"
      ]
     },
     "metadata": {},
     "output_type": "display_data"
    }
   ],
   "source": [
    "Qsim_2003.plot()\n",
    "Qobs_2003.plot()\n",
    "plt.legend()\n",
    "plt.ylabel('streamflow, inches')\n",
    "plt.title('years 2003 to 2004')"
   ]
  },
  {
   "cell_type": "code",
   "execution_count": 143,
   "metadata": {},
   "outputs": [],
   "source": [
    "LQsim_2003=Q_P['LQsim'].loc['11-12-2003':'11-12-2004']\n",
    "LQobs_2003=Q_P['LQobs'].loc['11-12-2003':'11-12-2004']"
   ]
  },
  {
   "cell_type": "code",
   "execution_count": 144,
   "metadata": {},
   "outputs": [
    {
     "data": {
      "text/plain": [
       "Text(0.5,1,'years 2003 to 2004')"
      ]
     },
     "execution_count": 144,
     "metadata": {},
     "output_type": "execute_result"
    },
    {
     "data": {
      "image/png": "[encoded data removed]",
      "text/plain": [
       "<Figure size 432x288 with 1 Axes>"
      ]
     },
     "metadata": {},
     "output_type": "display_data"
    }
   ],
   "source": [
    "LQsim_2003.plot()\n",
    "LQobs_2003.plot()\n",
    "plt.legend()\n",
    "plt.ylabel('Log space streamflow, inches')\n",
    "plt.title('years 2003 to 2004')"
   ]
  },
  {
   "cell_type": "code",
   "execution_count": 145,
   "metadata": {},
   "outputs": [],
   "source": [
    "Ground=ground.tolist()\n",
    "Soil=soil.tolist()\n",
    "Q_P['Ground']=Ground\n",
    "Q_P['Soil']=Soil"
   ]
  },
  {
   "cell_type": "code",
   "execution_count": 146,
   "metadata": {},
   "outputs": [],
   "source": [
    "Ground_2003=Q_P['Ground'].loc['11-12-2003':'11-12-2004']\n",
    "Soil_2003=Q_P['Soil'].loc['11-12-2003':'11-12-2004']"
   ]
  },
  {
   "cell_type": "code",
   "execution_count": 147,
   "metadata": {},
   "outputs": [
    {
     "data": {
      "text/plain": [
       "Text(0.5,1,'years 2005 to 2006')"
      ]
     },
     "execution_count": 147,
     "metadata": {},
     "output_type": "execute_result"
    },
    {
     "data": {
      "image/png": "[encoded data removed]",
      "text/plain": [
       "<Figure size 432x288 with 1 Axes>"
      ]
     },
     "metadata": {},
     "output_type": "display_data"
    }
   ],
   "source": [
    "Ground_2003.plot()\n",
    "Soil_2003.plot()\n",
    "plt.legend()\n",
    "plt.ylabel('GW and soil moisture, inches')\n",
    "plt.title('years 2005 to 2006')"
   ]
  },
  {
   "cell_type": "markdown",
   "metadata": {},
   "source": [
    "# Validation"
   ]
  },
  {
   "cell_type": "code",
   "execution_count": 148,
   "metadata": {},
   "outputs": [],
   "source": [
    "Precip=SnowMelt(precip_val,Tmax_val,res.x[4],res.x[5],Julian_date,Tb,res.x[6])\n",
    "Qs,ys,ground,soil=ABCD(Precip,PE_val,res.x[0:4])"
   ]
  },
  {
   "cell_type": "code",
   "execution_count": 149,
   "metadata": {},
   "outputs": [
    {
     "name": "stdout",
     "output_type": "stream",
     "text": [
      "validation LBEm= 0.427118697521035\n",
      "validation NSE= 0.38147830355362533\n",
      "validation LNSE= 0.5420587851388821\n"
     ]
    }
   ],
   "source": [
    "validation_LBEm=LBEm(Qs,Q_obs_val,Month_vector[4064:],prime=False)\n",
    "#LBEm(S,O,period,prime=False)\n",
    "print('validation LBEm=',validation_LBEm)\n",
    "validation_NSE=NSE(Qs,Q_obs_val)\n",
    "print('validation NSE=',validation_NSE)\n",
    "validation_LNSE=NSE(LN3_trans(Qs)[0],LN3_trans(Q_obs_val)[0])\n",
    "print('validation LNSE=',validation_LNSE)"
   ]
  },
  {
   "cell_type": "code",
   "execution_count": 150,
   "metadata": {},
   "outputs": [],
   "source": [
    "Qsim_2018=Q_P['Qsim'].loc['11-12-2018':'11-12-2019']\n",
    "Qobs_2018=Q_P['Qobs'].loc['11-12-2018':'11-12-2019']"
   ]
  },
  {
   "cell_type": "code",
   "execution_count": 151,
   "metadata": {},
   "outputs": [
    {
     "data": {
      "text/plain": [
       "<matplotlib.legend.Legend at 0x1bf48518080>"
      ]
     },
     "execution_count": 151,
     "metadata": {},
     "output_type": "execute_result"
    },
    {
     "data": {
      "image/png": "[encoded data removed]",
      "text/plain": [
       "<Figure size 432x288 with 1 Axes>"
      ]
     },
     "metadata": {},
     "output_type": "display_data"
    }
   ],
   "source": [
    "Qsim_2018.plot()\n",
    "Qobs_2018.plot()\n",
    "plt.legend()"
   ]
  },
  {
   "cell_type": "code",
   "execution_count": 152,
   "metadata": {},
   "outputs": [],
   "source": [
    "LQsim_2018=Q_P['LQsim'].loc['11-12-2018':'11-12-2019']\n",
    "LQobs_2018=Q_P['LQobs'].loc['11-12-2018':'11-12-2019']"
   ]
  },
  {
   "cell_type": "code",
   "execution_count": 153,
   "metadata": {},
   "outputs": [
    {
     "data": {
      "text/plain": [
       "Text(0.5,1,'years 2018 to 2019')"
      ]
     },
     "execution_count": 153,
     "metadata": {},
     "output_type": "execute_result"
    },
    {
     "data": {
      "image/png": "[encoded data removed]",
      "text/plain": [
       "<Figure size 432x288 with 1 Axes>"
      ]
     },
     "metadata": {},
     "output_type": "display_data"
    }
   ],
   "source": [
    "LQsim_2018.plot()\n",
    "LQobs_2018.plot()\n",
    "plt.legend()\n",
    "plt.ylabel('Log space streamflow, inches')\n",
    "plt.title('years 2018 to 2019')"
   ]
  },
  {
   "cell_type": "code",
   "execution_count": null,
   "metadata": {},
   "outputs": [],
   "source": []
  }
 ],
 "metadata": {
  "kernelspec": {
   "display_name": "Python 3",
   "language": "python",
   "name": "python3"
  },
  "language_info": {
   "codemirror_mode": {
    "name": "ipython",
    "version": 3
   },
   "file_extension": ".py",
   "mimetype": "text/x-python",
   "name": "python",
   "nbconvert_exporter": "python",
   "pygments_lexer": "ipython3",
   "version": "3.6.5"
  }
 },
 "nbformat": 4,
 "nbformat_minor": 2
}
