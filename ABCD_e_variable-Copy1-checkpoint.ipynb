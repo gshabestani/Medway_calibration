{
 "cells": [
  {
   "cell_type": "markdown",
   "metadata": {},
   "source": [
    "# ABCD Function"
   ]
  },
  {
   "cell_type": "code",
   "execution_count": 5,
   "metadata": {},
   "outputs": [],
   "source": [
    "import numpy as np\n",
    "import pandas as pd\n",
    "import math\n",
    "import matplotlib.pyplot as plt"
   ]
  },
  {
   "cell_type": "raw",
   "metadata": {},
   "source": [
    "testing github"
   ]
  },
  {
   "cell_type": "code",
   "execution_count": 6,
   "metadata": {},
   "outputs": [],
   "source": [
    "def ABCD(p,PE,par):\n",
    "    \n",
    "    \"\"\"\n",
    "    This function simulate streamflow by ABCD model(Thomas 1981) . the inputs are \n",
    "    p:precipitation\n",
    "    \n",
    "    par: [a,b,c,d,S0,G0] model parameters\n",
    "    a:Propensity of runoff to occur before soil is saturated\n",
    "    b:Maximum daily water consumption \n",
    "    c:Baseflow index, or the ratio of baseflow to total runoff\n",
    "    d:Reciprocal of groundwater residence time\n",
    "    S0:initial soil moisture\n",
    "    G0:initial ground water storage\n",
    "    PE:ptential evapotranspiration\n",
    "    \n",
    "    \n",
    "    \"\"\"\n",
    "    \n",
    "    \n",
    "    a=par[0]\n",
    "    b=par[1]\n",
    "    c=par[2]\n",
    "    d=par[3]\n",
    "    W=np.zeros(len(p))\n",
    "    Y=np.zeros(len(p))\n",
    "    Q=np.zeros(len(p))\n",
    "    S=np.zeros(len(p))\n",
    "    G=np.zeros(len(p))\n",
    "    E=np.zeros(len(p))\n",
    "    GR=np.zeros(len(p))\n",
    "    DR=np.zeros(len(p))\n",
    "    \n",
    "    S[0]=10\n",
    "    G[0]=10\n",
    "\n",
    "\n",
    "    for t in range(1,len(p)):\n",
    "        W[t]=p[t]+S[t-1]\n",
    "        Y[t]=(W[t]+b)/(2*a)-np.sqrt((0.5*(W[t]+b)/a)**2-(b*W[t]/a))\n",
    "        S[t]=Y[t]*np.exp(-PE[t]/b)\n",
    "        GR[t]=c*(W[t]-Y[t])\n",
    "        DR[t]=(1-c)*(W[t]-Y[t])\n",
    "        G[t]=(c*(W[t]-Y[t])+G[t-1])/(1+d)\n",
    "        Q[t]=(1-c)*(W[t]-Y[t])+d*G[t]\n",
    "    \n",
    "    return Q,Y,G,S"
   ]
  },
  {
   "cell_type": "code",
   "execution_count": 7,
   "metadata": {},
   "outputs": [],
   "source": [
    "def PET(phi,J,Tmax,Tmin):\n",
    "    \"\"\"\n",
    "    calculate potential evapotranspiration by Shuttleworth(1993)\n",
    "    inputs:\n",
    "    J=julian day\n",
    "    phi=latitude in radian\n",
    "    Tmax & Tmin= max and min temprature\n",
    "\n",
    "    \"\"\"\n",
    "    dr=1+0.033*np.cos(2*np.pi/365*J)\n",
    "    delta=0.4093*np.sin(2*np.pi/365*J-1.405)\n",
    "    omega=np.arccos(-1*np.tan(phi)*np.tan(delta))\n",
    "    \n",
    "    SR=0.6059*dr*(omega*np.sin(dr)*np.sin(delta)+np.cos(phi)*np.cos(delta)*np.sin(omega))\n",
    "    Tave=(Tmax+Tmin)/2\n",
    "    pe=0.0023*SR*(Tmax-Tmin)**0.5*(Tave+17.8)\n",
    "    return pe"
   ]
  },
  {
   "cell_type": "code",
   "execution_count": 8,
   "metadata": {},
   "outputs": [],
   "source": [
    "def e_fun(emax,emin,j):\n",
    "    e=(emax+emin)/2+np.sin(2*math.pi*j/365)*((emax+emin)/2)\n",
    "    return e\n",
    "\n",
    "\n",
    "\n",
    "def SnowMelt(P,T,emin,emax,j,Tb,Tbm):\n",
    "    \n",
    "    Pe=np.ones(len(P))\n",
    "    A=np.zeros(len(P))\n",
    "    M=np.zeros(len(P))\n",
    "    for t in range(1,(len(P))):\n",
    "        e=(emax+emin)/2+np.sin(2*math.pi*j[t]/365)*((emax+emin)/2)\n",
    "        if T[t]< Tb:\n",
    "            Pe[t]=precip[t]\n",
    "            A[t]=A[t-1]-M[t-1]+P[t]\n",
    "        if T[t]>= Tb:\n",
    "            M[t]=min(A[t-1],e*(T[t]-Tbm))\n",
    "            Pe[t]=P[t]+M[t]\n",
    "            A[t]=A[t-1]-M[t]\n",
    "    return Pe"
   ]
  },
  {
   "cell_type": "code",
   "execution_count": 9,
   "metadata": {},
   "outputs": [],
   "source": [
    "def NSE(Qs,Qobs):\n",
    "    ''''\n",
    "    The Nash–Sutcliffe model efficiency coefficient (NSE) is used to assess the predictive power of hydrological models\n",
    "    Nash–Sutcliffe efficiency can range from −∞ to 1. An efficiency of 1 (NSE = 1) corresponds to a perfect match of modeled discharge to the observed data.\n",
    "    An efficiency of 0 (NSE = 0) indicates that the model predictions are as accurate as the mean of the observed data,\n",
    "    whereas an efficiency less than zero (NSE < 0) occurs when the observed mean is a better predictor than the model\n",
    "    Qs: simulated flow\n",
    "    Qobs: observed flow\n",
    "    '''\n",
    "    MSE= np.mean((Qs-Qobs)**2)\n",
    "    NSE=1-MSE/np.std(Qobs,ddof=1)\n",
    "    return NSE"
   ]
  },
  {
   "cell_type": "code",
   "execution_count": 10,
   "metadata": {},
   "outputs": [],
   "source": [
    "def LBE(S,O,prime=False):\n",
    "    mu_O,var_O,mu_S,var_S,rho = BLN3_moments(O,S)\n",
    "    \n",
    "    Co = np.sqrt(var_O)/mu_O#Eq. 18\n",
    "    alpha = np.sqrt(var_S)/np.sqrt(var_O)\n",
    "    delta = 1.-mu_S/mu_O\n",
    "    beta = 1.-delta\n",
    "\n",
    "    if prime == False:\n",
    "        LBE_hat = 2.*alpha*rho-alpha**2.-(delta**2)/(Co**2) #Lamontagne et al. (2020) eq. 18a\n",
    "    elif prime == True:\n",
    "        LBE_hat = 1.-np.sqrt((beta-1.)**2.+(alpha-1.)**2.+(rho-1.)**2.) #Lamontagne et al. (2020) eq. 18b\n",
    "    return LBE_hat\n",
    "def BLN3_moments(O,S):\n",
    "    U,tau_O = LN3_trans(O)\n",
    "    V,tau_S = LN3_trans(S)\n",
    "    \n",
    "    U_bar = np.mean(U)\n",
    "    V_bar = np.mean(V)\n",
    "    var_U = np.var(U,ddof=1)\n",
    "    var_V = np.var(V,ddof=1)\n",
    "    cov_UV = np.cov(U,V,rowvar=False,ddof=None)[0,1]\n",
    "    \n",
    "    mu_O = tau_O+np.exp(U_bar+var_U/2.)\n",
    "    mu_S = tau_S+np.exp(V_bar+var_V/2.)\n",
    "    var_O = np.exp(2.*U_bar+var_U)*(np.exp(var_U)-1.)\n",
    "    var_S = np.exp(2.*V_bar+var_V)*(np.exp(var_V)-1.)\n",
    "    \n",
    "    rho = (np.exp(cov_UV)-1.)/np.sqrt((np.exp(var_U)-1.)*(np.exp(var_V)-1.))\n",
    "    return mu_O,var_O,mu_S,var_S,rho\n",
    "\n",
    "def stedinger_tau(X):\n",
    "    if X.min()+X.max()-2.*np.median(X)>0:\n",
    "        tau = (X.min()*X.max()-np.median(X)**2)/(X.min()+X.max()-2.*np.median(X))\n",
    "    else:\n",
    "        tau = 0.\n",
    "    return tau\n",
    "\n",
    "def LN3_trans(X):\n",
    "    tau = stedinger_tau(X)\n",
    "    Y = np.log(X-tau)\n",
    "    return Y,tau"
   ]
  },
  {
   "cell_type": "code",
   "execution_count": 11,
   "metadata": {},
   "outputs": [],
   "source": [
    "# period: a vector with the lenght of S and O\n",
    "def LBEm(S,O,period,prime=False):\n",
    "    \n",
    "    mu_Om,mu_Sm,var_Om,var_Sm,mu_SOm = mixture_moments(S,O,period,prime=False)\n",
    "    alpha_m = np.sqrt(var_Sm)/np.sqrt(var_Om)#Lamontagne et al. 2020 eqn. 20\n",
    "    delta_m = 1.-mu_Sm/mu_Om\n",
    "    Co_m = np.sqrt(var_Om)/mu_Om\n",
    "    r_m = (mu_SOm-mu_Om*mu_Sm)/(np.sqrt(var_Om)*np.sqrt(var_Sm))\n",
    "    \n",
    "    if prime == False:\n",
    "        LBEm_hat = 2*alpha_m*r_m-alpha_m**2-(delta_m**2)/(Co_m**2)#Lamontagne et al. 2020 eqn. 20a\n",
    "    elif prime == True:\n",
    "        LBEm_hat = 1-np.sqrt((delta_m**2)+(alpha_m-1)**2+(r_m-1)**2)#Lamontagne et al. 2020 eqn. 20b\n",
    "    return LBEm_hat\n",
    "\n",
    "\n",
    "def mixture_moments(S,O,period,prime=False):\n",
    "    m = np.size(np.unique(period))\n",
    "    mu_O = np.zeros([m,1])\n",
    "    var_O = np.zeros([m,1])\n",
    "    mu_S = np.zeros([m,1])\n",
    "    var_S = np.zeros([m,1])\n",
    "    rho = np.zeros([m,1])\n",
    "    \n",
    "    for i in range(m):\n",
    "        mu_O[i],var_O[i],mu_S[i],var_S[i],rho[i] = BLN3_moments(O[period==i],S[period==i])\n",
    "    mu_O_hat = np.mean(mu_O)\n",
    "    mu_S_hat = np.mean(mu_S)\n",
    "    \n",
    "    var_O_hat = np.mean(var_O+mu_O**2)-mu_O_hat**2\n",
    "    var_S_hat = np.mean(var_S+mu_S**2)-mu_S_hat**2\n",
    "    \n",
    "    mu_SO_hat = np.mean(mu_S*mu_O+rho*np.sqrt(var_S)*np.sqrt(var_O))\n",
    "    return mu_O_hat,mu_S_hat,var_O_hat,var_S_hat,mu_SO_hat\n",
    "\n",
    "def BLN3_moments(O,S):\n",
    "    U,tau_O = LN3_trans(O)\n",
    "    V,tau_S = LN3_trans(S)\n",
    "    \n",
    "    U_bar = np.mean(U)\n",
    "    V_bar = np.mean(V)\n",
    "    var_U = np.var(U,ddof=1)\n",
    "    var_V = np.var(V,ddof=1)\n",
    "    cov_UV = np.cov(U,V,rowvar=False,ddof=None)[0,1]\n",
    "    \n",
    "    mu_O = tau_O+np.exp(U_bar+var_U/2.)\n",
    "    mu_S = tau_S+np.exp(V_bar+var_V/2.)\n",
    "    var_O = np.exp(2.*U_bar+var_U)*(np.exp(var_U)-1.)\n",
    "    var_S = np.exp(2.*V_bar+var_V)*(np.exp(var_V)-1.)\n",
    "    \n",
    "    rho = (np.exp(cov_UV)-1.)/np.sqrt((np.exp(var_U)-1.)*(np.exp(var_V)-1.))\n",
    "    return mu_O,var_O,mu_S,var_S,rho\n",
    "\n",
    "def stedinger_tau(X):\n",
    "    if X.min()+X.max()-2.*np.median(X)>0:\n",
    "        tau = (X.min()*X.max()-np.median(X)**2)/(X.min()+X.max()-2.*np.median(X))\n",
    "    else:\n",
    "        tau = 0.\n",
    "    return tau\n",
    "\n",
    "def LN3_trans(X):\n",
    "    tau = stedinger_tau(X)\n",
    "    Y = np.log(X-tau)\n",
    "    return Y,tau"
   ]
  },
  {
   "cell_type": "markdown",
   "metadata": {},
   "source": [
    "# Importing gage data "
   ]
  },
  {
   "cell_type": "code",
   "execution_count": 12,
   "metadata": {},
   "outputs": [
    {
     "data": {
      "text/html": [
       "<div>\n",
       "<style scoped>\n",
       "    .dataframe tbody tr th:only-of-type {\n",
       "        vertical-align: middle;\n",
       "    }\n",
       "\n",
       "    .dataframe tbody tr th {\n",
       "        vertical-align: top;\n",
       "    }\n",
       "\n",
       "    .dataframe thead th {\n",
       "        text-align: right;\n",
       "    }\n",
       "</style>\n",
       "<table border=\"1\" class=\"dataframe\">\n",
       "  <thead>\n",
       "    <tr style=\"text-align: right;\">\n",
       "      <th></th>\n",
       "      <th>STATION</th>\n",
       "      <th>NAME</th>\n",
       "      <th>PRCP</th>\n",
       "      <th>TMAX</th>\n",
       "      <th>TMIN</th>\n",
       "      <th>Tmax_C</th>\n",
       "      <th>Tmin_C</th>\n",
       "      <th>delta</th>\n",
       "    </tr>\n",
       "    <tr>\n",
       "      <th>DATE</th>\n",
       "      <th></th>\n",
       "      <th></th>\n",
       "      <th></th>\n",
       "      <th></th>\n",
       "      <th></th>\n",
       "      <th></th>\n",
       "      <th></th>\n",
       "      <th></th>\n",
       "    </tr>\n",
       "  </thead>\n",
       "  <tbody>\n",
       "    <tr>\n",
       "      <th>1986-01-27</th>\n",
       "      <td>USC00198757</td>\n",
       "      <td>WALPOLE 2, MA US</td>\n",
       "      <td>2.26</td>\n",
       "      <td>25.0</td>\n",
       "      <td>33.0</td>\n",
       "      <td>-3.888889</td>\n",
       "      <td>0.555556</td>\n",
       "      <td>-4.444444</td>\n",
       "    </tr>\n",
       "    <tr>\n",
       "      <th>1988-05-19</th>\n",
       "      <td>USC00198757</td>\n",
       "      <td>WALPOLE 2, MA US</td>\n",
       "      <td>0.05</td>\n",
       "      <td>49.0</td>\n",
       "      <td>48.0</td>\n",
       "      <td>9.444444</td>\n",
       "      <td>8.888889</td>\n",
       "      <td>0.555556</td>\n",
       "    </tr>\n",
       "    <tr>\n",
       "      <th>1974-06-26</th>\n",
       "      <td>USC00198757</td>\n",
       "      <td>WALPOLE 2, MA US</td>\n",
       "      <td>0.12</td>\n",
       "      <td>55.0</td>\n",
       "      <td>53.0</td>\n",
       "      <td>12.777778</td>\n",
       "      <td>11.666667</td>\n",
       "      <td>1.111111</td>\n",
       "    </tr>\n",
       "    <tr>\n",
       "      <th>1976-07-31</th>\n",
       "      <td>USC00198757</td>\n",
       "      <td>WALPOLE 2, MA US</td>\n",
       "      <td>0.95</td>\n",
       "      <td>63.0</td>\n",
       "      <td>61.0</td>\n",
       "      <td>17.222222</td>\n",
       "      <td>16.111111</td>\n",
       "      <td>1.111111</td>\n",
       "    </tr>\n",
       "    <tr>\n",
       "      <th>1979-05-19</th>\n",
       "      <td>USC00198757</td>\n",
       "      <td>WALPOLE 2, MA US</td>\n",
       "      <td>0.00</td>\n",
       "      <td>53.0</td>\n",
       "      <td>51.0</td>\n",
       "      <td>11.666667</td>\n",
       "      <td>10.555556</td>\n",
       "      <td>1.111111</td>\n",
       "    </tr>\n",
       "  </tbody>\n",
       "</table>\n",
       "</div>"
      ],
      "text/plain": [
       "                STATION              NAME  PRCP  TMAX  TMIN     Tmax_C  \\\n",
       "DATE                                                                     \n",
       "1986-01-27  USC00198757  WALPOLE 2, MA US  2.26  25.0  33.0  -3.888889   \n",
       "1988-05-19  USC00198757  WALPOLE 2, MA US  0.05  49.0  48.0   9.444444   \n",
       "1974-06-26  USC00198757  WALPOLE 2, MA US  0.12  55.0  53.0  12.777778   \n",
       "1976-07-31  USC00198757  WALPOLE 2, MA US  0.95  63.0  61.0  17.222222   \n",
       "1979-05-19  USC00198757  WALPOLE 2, MA US  0.00  53.0  51.0  11.666667   \n",
       "\n",
       "               Tmin_C     delta  \n",
       "DATE                             \n",
       "1986-01-27   0.555556 -4.444444  \n",
       "1988-05-19   8.888889  0.555556  \n",
       "1974-06-26  11.666667  1.111111  \n",
       "1976-07-31  16.111111  1.111111  \n",
       "1979-05-19  10.555556  1.111111  "
      ]
     },
     "execution_count": 12,
     "metadata": {},
     "output_type": "execute_result"
    }
   ],
   "source": [
    "df=pd.read_csv('2151006.csv',parse_dates=['DATE'],index_col='DATE')\n",
    "\n",
    "df = df.dropna()\n",
    "df.head(5)"
   ]
  },
  {
   "cell_type": "code",
   "execution_count": 13,
   "metadata": {},
   "outputs": [
    {
     "ename": "AttributeError",
     "evalue": "module 'pandas' has no attribute 'read_csesv'",
     "output_type": "error",
     "traceback": [
      "\u001b[1;31m---------------------------------------------------------------------------\u001b[0m",
      "\u001b[1;31mAttributeError\u001b[0m                            Traceback (most recent call last)",
      "\u001b[1;32m<ipython-input-13-667eeb0f777d>\u001b[0m in \u001b[0;36m<module>\u001b[1;34m()\u001b[0m\n\u001b[1;32m----> 1\u001b[1;33m \u001b[0mPRISM\u001b[0m\u001b[1;33m=\u001b[0m\u001b[0mpd\u001b[0m\u001b[1;33m.\u001b[0m\u001b[0mread_csesv\u001b[0m\u001b[1;33m(\u001b[0m\u001b[1;34m'PRISM_medway.csv'\u001b[0m\u001b[1;33m,\u001b[0m\u001b[0mparse_dates\u001b[0m\u001b[1;33m=\u001b[0m\u001b[1;33m[\u001b[0m\u001b[1;34m'Date'\u001b[0m\u001b[1;33m]\u001b[0m\u001b[1;33m,\u001b[0m\u001b[0mindex_col\u001b[0m\u001b[1;33m=\u001b[0m\u001b[1;34m'Date'\u001b[0m\u001b[1;33m)\u001b[0m\u001b[1;33m\u001b[0m\u001b[0m\n\u001b[0m\u001b[0;32m      2\u001b[0m \u001b[0mppt\u001b[0m\u001b[1;33m=\u001b[0m\u001b[0mPRISM\u001b[0m\u001b[1;33m[\u001b[0m\u001b[1;34m'ppt(inch)'\u001b[0m\u001b[1;33m]\u001b[0m\u001b[1;33m\u001b[0m\u001b[0m\n\u001b[0;32m      3\u001b[0m \u001b[1;31m#PRISM.head()\u001b[0m\u001b[1;33m\u001b[0m\u001b[1;33m\u001b[0m\u001b[0m\n",
      "\u001b[1;31mAttributeError\u001b[0m: module 'pandas' has no attribute 'read_csesv'"
     ]
    }
   ],
   "source": [
    "PRISM=pd.read_csesv('PRISM_medway.csv',parse_dates=['Date'],index_col='Date')\n",
    "ppt=PRISM['ppt(inch)']\n",
    "#PRISM.head()"
   ]
  },
  {
   "cell_type": "code",
   "execution_count": 14,
   "metadata": {},
   "outputs": [
    {
     "data": {
      "text/html": [
       "<div>\n",
       "<style scoped>\n",
       "    .dataframe tbody tr th:only-of-type {\n",
       "        vertical-align: middle;\n",
       "    }\n",
       "\n",
       "    .dataframe tbody tr th {\n",
       "        vertical-align: top;\n",
       "    }\n",
       "\n",
       "    .dataframe thead th {\n",
       "        text-align: right;\n",
       "    }\n",
       "</style>\n",
       "<table border=\"1\" class=\"dataframe\">\n",
       "  <thead>\n",
       "    <tr style=\"text-align: right;\">\n",
       "      <th></th>\n",
       "      <th>PRCP</th>\n",
       "      <th>Tmax_C</th>\n",
       "      <th>Tmin_C</th>\n",
       "      <th>delta</th>\n",
       "    </tr>\n",
       "    <tr>\n",
       "      <th>DATE</th>\n",
       "      <th></th>\n",
       "      <th></th>\n",
       "      <th></th>\n",
       "      <th></th>\n",
       "    </tr>\n",
       "  </thead>\n",
       "  <tbody>\n",
       "    <tr>\n",
       "      <th>1986-01-27</th>\n",
       "      <td>2.26</td>\n",
       "      <td>-3.888889</td>\n",
       "      <td>0.555556</td>\n",
       "      <td>-4.444444</td>\n",
       "    </tr>\n",
       "    <tr>\n",
       "      <th>1988-05-19</th>\n",
       "      <td>0.05</td>\n",
       "      <td>9.444444</td>\n",
       "      <td>8.888889</td>\n",
       "      <td>0.555556</td>\n",
       "    </tr>\n",
       "    <tr>\n",
       "      <th>1974-06-26</th>\n",
       "      <td>0.12</td>\n",
       "      <td>12.777778</td>\n",
       "      <td>11.666667</td>\n",
       "      <td>1.111111</td>\n",
       "    </tr>\n",
       "    <tr>\n",
       "      <th>1976-07-31</th>\n",
       "      <td>0.95</td>\n",
       "      <td>17.222222</td>\n",
       "      <td>16.111111</td>\n",
       "      <td>1.111111</td>\n",
       "    </tr>\n",
       "    <tr>\n",
       "      <th>1979-05-19</th>\n",
       "      <td>0.00</td>\n",
       "      <td>11.666667</td>\n",
       "      <td>10.555556</td>\n",
       "      <td>1.111111</td>\n",
       "    </tr>\n",
       "  </tbody>\n",
       "</table>\n",
       "</div>"
      ],
      "text/plain": [
       "            PRCP     Tmax_C     Tmin_C     delta\n",
       "DATE                                            \n",
       "1986-01-27  2.26  -3.888889   0.555556 -4.444444\n",
       "1988-05-19  0.05   9.444444   8.888889  0.555556\n",
       "1974-06-26  0.12  12.777778  11.666667  1.111111\n",
       "1976-07-31  0.95  17.222222  16.111111  1.111111\n",
       "1979-05-19  0.00  11.666667  10.555556  1.111111"
      ]
     },
     "execution_count": 14,
     "metadata": {},
     "output_type": "execute_result"
    }
   ],
   "source": [
    "df['delta']=df['Tmax_C']-df['Tmin_C']\n",
    "columns=['PRCP','Tmax_C','Tmin_C','delta']\n",
    "df=df[columns]\n",
    "\n",
    "df.head()"
   ]
  },
  {
   "cell_type": "code",
   "execution_count": 15,
   "metadata": {},
   "outputs": [
    {
     "data": {
      "text/html": [
       "<div>\n",
       "<style scoped>\n",
       "    .dataframe tbody tr th:only-of-type {\n",
       "        vertical-align: middle;\n",
       "    }\n",
       "\n",
       "    .dataframe tbody tr th {\n",
       "        vertical-align: top;\n",
       "    }\n",
       "\n",
       "    .dataframe thead th {\n",
       "        text-align: right;\n",
       "    }\n",
       "</style>\n",
       "<table border=\"1\" class=\"dataframe\">\n",
       "  <thead>\n",
       "    <tr style=\"text-align: right;\">\n",
       "      <th></th>\n",
       "      <th>Discharge[ft3/s]</th>\n",
       "    </tr>\n",
       "    <tr>\n",
       "      <th>date</th>\n",
       "      <th></th>\n",
       "    </tr>\n",
       "  </thead>\n",
       "  <tbody>\n",
       "    <tr>\n",
       "      <th>1997-11-12</th>\n",
       "      <td>59.0</td>\n",
       "    </tr>\n",
       "    <tr>\n",
       "      <th>1997-11-13</th>\n",
       "      <td>49.0</td>\n",
       "    </tr>\n",
       "    <tr>\n",
       "      <th>1997-11-14</th>\n",
       "      <td>44.0</td>\n",
       "    </tr>\n",
       "    <tr>\n",
       "      <th>1997-11-15</th>\n",
       "      <td>41.0</td>\n",
       "    </tr>\n",
       "    <tr>\n",
       "      <th>1997-11-16</th>\n",
       "      <td>40.0</td>\n",
       "    </tr>\n",
       "  </tbody>\n",
       "</table>\n",
       "</div>"
      ],
      "text/plain": [
       "            Discharge[ft3/s]\n",
       "date                        \n",
       "1997-11-12              59.0\n",
       "1997-11-13              49.0\n",
       "1997-11-14              44.0\n",
       "1997-11-15              41.0\n",
       "1997-11-16              40.0"
      ]
     },
     "execution_count": 15,
     "metadata": {},
     "output_type": "execute_result"
    }
   ],
   "source": [
    "Q_obs=pd.read_excel('gage01103280.xlsx',parse_dates=True,index_col='date')\n",
    "Q_obs.head()"
   ]
  },
  {
   "cell_type": "code",
   "execution_count": 16,
   "metadata": {},
   "outputs": [
    {
     "ename": "NameError",
     "evalue": "name 'ppt' is not defined",
     "output_type": "error",
     "traceback": [
      "\u001b[1;31m---------------------------------------------------------------------------\u001b[0m",
      "\u001b[1;31mNameError\u001b[0m                                 Traceback (most recent call last)",
      "\u001b[1;32m<ipython-input-16-52897b591c36>\u001b[0m in \u001b[0;36m<module>\u001b[1;34m()\u001b[0m\n\u001b[0;32m      6\u001b[0m \u001b[0mPrecip\u001b[0m\u001b[1;33m=\u001b[0m\u001b[0mnp\u001b[0m\u001b[1;33m.\u001b[0m\u001b[0marray\u001b[0m\u001b[1;33m(\u001b[0m\u001b[0mQ_P\u001b[0m\u001b[1;33m[\u001b[0m\u001b[1;34m'PRCP'\u001b[0m\u001b[1;33m]\u001b[0m\u001b[1;33m.\u001b[0m\u001b[0mvalues\u001b[0m\u001b[1;33m.\u001b[0m\u001b[0mtolist\u001b[0m\u001b[1;33m(\u001b[0m\u001b[1;33m)\u001b[0m\u001b[1;33m)\u001b[0m\u001b[1;33m\u001b[0m\u001b[0m\n\u001b[0;32m      7\u001b[0m \u001b[0mQ_P\u001b[0m \u001b[1;33m=\u001b[0m \u001b[0mQ_P\u001b[0m\u001b[1;33m[\u001b[0m\u001b[0mQ_P\u001b[0m\u001b[1;33m[\u001b[0m\u001b[1;34m'delta'\u001b[0m\u001b[1;33m]\u001b[0m \u001b[1;33m>=\u001b[0m \u001b[1;36m0\u001b[0m\u001b[1;33m]\u001b[0m\u001b[1;33m\u001b[0m\u001b[0m\n\u001b[1;32m----> 8\u001b[1;33m \u001b[0mQ_P\u001b[0m\u001b[1;33m[\u001b[0m\u001b[1;34m'ppt'\u001b[0m\u001b[1;33m]\u001b[0m\u001b[1;33m=\u001b[0m\u001b[0mppt\u001b[0m\u001b[1;33m\u001b[0m\u001b[0m\n\u001b[0m\u001b[0;32m      9\u001b[0m \u001b[0mQ_P\u001b[0m\u001b[1;33m.\u001b[0m\u001b[0mhead\u001b[0m\u001b[1;33m(\u001b[0m\u001b[1;33m)\u001b[0m\u001b[1;33m\u001b[0m\u001b[0m\n",
      "\u001b[1;31mNameError\u001b[0m: name 'ppt' is not defined"
     ]
    }
   ],
   "source": [
    "Q_P = Q_obs.join(df)\n",
    "Q_P=Q_P.dropna()\n",
    "Area=1.8316e+9\n",
    "Q_P['Qobs']=Q_P['Discharge[ft3/s]']/Area*1.037e+6\n",
    "\n",
    "Precip=np.array(Q_P['PRCP'].values.tolist())\n",
    "Q_P = Q_P[Q_P['delta'] >= 0]\n",
    "Q_P['ppt']=ppt\n",
    "Q_P.head()"
   ]
  },
  {
   "cell_type": "code",
   "execution_count": 14,
   "metadata": {},
   "outputs": [
    {
     "data": {
      "text/plain": [
       "8128"
      ]
     },
     "execution_count": 14,
     "metadata": {},
     "output_type": "execute_result"
    }
   ],
   "source": [
    "Tmax=Q_P['Tmax_C'].dropna()\n",
    "Tmax=np.array(Tmax.values.tolist())\n",
    "Tmin=Q_P['Tmin_C'].dropna()\n",
    "Tmin=np.array(Tmin.values.tolist())\n",
    "len(Tmin)"
   ]
  },
  {
   "cell_type": "code",
   "execution_count": 15,
   "metadata": {},
   "outputs": [
    {
     "data": {
      "text/html": [
       "<div>\n",
       "<style scoped>\n",
       "    .dataframe tbody tr th:only-of-type {\n",
       "        vertical-align: middle;\n",
       "    }\n",
       "\n",
       "    .dataframe tbody tr th {\n",
       "        vertical-align: top;\n",
       "    }\n",
       "\n",
       "    .dataframe thead th {\n",
       "        text-align: right;\n",
       "    }\n",
       "</style>\n",
       "<table border=\"1\" class=\"dataframe\">\n",
       "  <thead>\n",
       "    <tr style=\"text-align: right;\">\n",
       "      <th></th>\n",
       "      <th>PRCP</th>\n",
       "      <th>Tmax_C</th>\n",
       "      <th>Tmin_C</th>\n",
       "      <th>delta</th>\n",
       "      <th>Qobs</th>\n",
       "      <th>Date</th>\n",
       "    </tr>\n",
       "    <tr>\n",
       "      <th>date</th>\n",
       "      <th></th>\n",
       "      <th></th>\n",
       "      <th></th>\n",
       "      <th></th>\n",
       "      <th></th>\n",
       "      <th></th>\n",
       "    </tr>\n",
       "  </thead>\n",
       "  <tbody>\n",
       "    <tr>\n",
       "      <th>1997-11-12</th>\n",
       "      <td>0.00</td>\n",
       "      <td>6.666667</td>\n",
       "      <td>-5.000000</td>\n",
       "      <td>11.666667</td>\n",
       "      <td>0.033404</td>\n",
       "      <td>1997-11-12</td>\n",
       "    </tr>\n",
       "    <tr>\n",
       "      <th>1997-11-13</th>\n",
       "      <td>0.00</td>\n",
       "      <td>5.000000</td>\n",
       "      <td>-5.555556</td>\n",
       "      <td>10.555556</td>\n",
       "      <td>0.027742</td>\n",
       "      <td>1997-11-13</td>\n",
       "    </tr>\n",
       "    <tr>\n",
       "      <th>1997-11-14</th>\n",
       "      <td>0.27</td>\n",
       "      <td>2.222222</td>\n",
       "      <td>-2.777778</td>\n",
       "      <td>5.000000</td>\n",
       "      <td>0.024912</td>\n",
       "      <td>1997-11-14</td>\n",
       "    </tr>\n",
       "    <tr>\n",
       "      <th>1997-11-15</th>\n",
       "      <td>1.23</td>\n",
       "      <td>1.666667</td>\n",
       "      <td>-2.222222</td>\n",
       "      <td>3.888889</td>\n",
       "      <td>0.023213</td>\n",
       "      <td>1997-11-15</td>\n",
       "    </tr>\n",
       "    <tr>\n",
       "      <th>1997-11-16</th>\n",
       "      <td>0.00</td>\n",
       "      <td>3.333333</td>\n",
       "      <td>-3.888889</td>\n",
       "      <td>7.222222</td>\n",
       "      <td>0.022647</td>\n",
       "      <td>1997-11-16</td>\n",
       "    </tr>\n",
       "  </tbody>\n",
       "</table>\n",
       "</div>"
      ],
      "text/plain": [
       "            PRCP    Tmax_C    Tmin_C      delta      Qobs       Date\n",
       "date                                                                \n",
       "1997-11-12  0.00  6.666667 -5.000000  11.666667  0.033404 1997-11-12\n",
       "1997-11-13  0.00  5.000000 -5.555556  10.555556  0.027742 1997-11-13\n",
       "1997-11-14  0.27  2.222222 -2.777778   5.000000  0.024912 1997-11-14\n",
       "1997-11-15  1.23  1.666667 -2.222222   3.888889  0.023213 1997-11-15\n",
       "1997-11-16  0.00  3.333333 -3.888889   7.222222  0.022647 1997-11-16"
      ]
     },
     "execution_count": 15,
     "metadata": {},
     "output_type": "execute_result"
    }
   ],
   "source": [
    "Q_P['Date']=Q_P.index\n",
    "columns=['PRCP','Tmax_C','Tmin_C','delta','Qobs','Date']\n",
    "Q_P=Q_P[columns]\n",
    "Q_P.head()"
   ]
  },
  {
   "cell_type": "code",
   "execution_count": 16,
   "metadata": {},
   "outputs": [
    {
     "data": {
      "text/html": [
       "<div>\n",
       "<style scoped>\n",
       "    .dataframe tbody tr th:only-of-type {\n",
       "        vertical-align: middle;\n",
       "    }\n",
       "\n",
       "    .dataframe tbody tr th {\n",
       "        vertical-align: top;\n",
       "    }\n",
       "\n",
       "    .dataframe thead th {\n",
       "        text-align: right;\n",
       "    }\n",
       "</style>\n",
       "<table border=\"1\" class=\"dataframe\">\n",
       "  <thead>\n",
       "    <tr style=\"text-align: right;\">\n",
       "      <th></th>\n",
       "      <th>PRCP</th>\n",
       "      <th>Tmax_C</th>\n",
       "      <th>Tmin_C</th>\n",
       "      <th>delta</th>\n",
       "      <th>Qobs</th>\n",
       "      <th>Date</th>\n",
       "    </tr>\n",
       "    <tr>\n",
       "      <th>date</th>\n",
       "      <th></th>\n",
       "      <th></th>\n",
       "      <th></th>\n",
       "      <th></th>\n",
       "      <th></th>\n",
       "      <th></th>\n",
       "    </tr>\n",
       "  </thead>\n",
       "  <tbody>\n",
       "    <tr>\n",
       "      <th>2020-03-21</th>\n",
       "      <td>0.01</td>\n",
       "      <td>18.888889</td>\n",
       "      <td>3.888889</td>\n",
       "      <td>15.000000</td>\n",
       "      <td>0.075867</td>\n",
       "      <td>2020-03-21</td>\n",
       "    </tr>\n",
       "    <tr>\n",
       "      <th>2020-03-22</th>\n",
       "      <td>0.00</td>\n",
       "      <td>5.000000</td>\n",
       "      <td>-3.888889</td>\n",
       "      <td>8.888889</td>\n",
       "      <td>0.065110</td>\n",
       "      <td>2020-03-22</td>\n",
       "    </tr>\n",
       "    <tr>\n",
       "      <th>2020-03-23</th>\n",
       "      <td>0.00</td>\n",
       "      <td>4.444444</td>\n",
       "      <td>-3.888889</td>\n",
       "      <td>8.333333</td>\n",
       "      <td>0.061147</td>\n",
       "      <td>2020-03-23</td>\n",
       "    </tr>\n",
       "    <tr>\n",
       "      <th>2020-03-24</th>\n",
       "      <td>1.96</td>\n",
       "      <td>9.444444</td>\n",
       "      <td>0.555556</td>\n",
       "      <td>8.888889</td>\n",
       "      <td>0.181741</td>\n",
       "      <td>2020-03-24</td>\n",
       "    </tr>\n",
       "    <tr>\n",
       "      <th>2020-03-25</th>\n",
       "      <td>0.00</td>\n",
       "      <td>6.666667</td>\n",
       "      <td>0.555556</td>\n",
       "      <td>6.111111</td>\n",
       "      <td>0.215145</td>\n",
       "      <td>2020-03-25</td>\n",
       "    </tr>\n",
       "  </tbody>\n",
       "</table>\n",
       "</div>"
      ],
      "text/plain": [
       "            PRCP     Tmax_C    Tmin_C      delta      Qobs       Date\n",
       "date                                                                 \n",
       "2020-03-21  0.01  18.888889  3.888889  15.000000  0.075867 2020-03-21\n",
       "2020-03-22  0.00   5.000000 -3.888889   8.888889  0.065110 2020-03-22\n",
       "2020-03-23  0.00   4.444444 -3.888889   8.333333  0.061147 2020-03-23\n",
       "2020-03-24  1.96   9.444444  0.555556   8.888889  0.181741 2020-03-24\n",
       "2020-03-25  0.00   6.666667  0.555556   6.111111  0.215145 2020-03-25"
      ]
     },
     "execution_count": 16,
     "metadata": {},
     "output_type": "execute_result"
    }
   ],
   "source": [
    "Q_P.tail()"
   ]
  },
  {
   "cell_type": "code",
   "execution_count": 34,
   "metadata": {},
   "outputs": [
    {
     "data": {
      "text/html": [
       "<div>\n",
       "<style scoped>\n",
       "    .dataframe tbody tr th:only-of-type {\n",
       "        vertical-align: middle;\n",
       "    }\n",
       "\n",
       "    .dataframe tbody tr th {\n",
       "        vertical-align: top;\n",
       "    }\n",
       "\n",
       "    .dataframe thead th {\n",
       "        text-align: right;\n",
       "    }\n",
       "</style>\n",
       "<table border=\"1\" class=\"dataframe\">\n",
       "  <thead>\n",
       "    <tr style=\"text-align: right;\">\n",
       "      <th></th>\n",
       "      <th>PRCP</th>\n",
       "      <th>Tmax_C</th>\n",
       "      <th>Tmin_C</th>\n",
       "      <th>delta</th>\n",
       "      <th>Qobs</th>\n",
       "      <th>Date</th>\n",
       "      <th>julian</th>\n",
       "      <th>month</th>\n",
       "      <th>Tave</th>\n",
       "      <th>Tave_C</th>\n",
       "    </tr>\n",
       "    <tr>\n",
       "      <th>date</th>\n",
       "      <th></th>\n",
       "      <th></th>\n",
       "      <th></th>\n",
       "      <th></th>\n",
       "      <th></th>\n",
       "      <th></th>\n",
       "      <th></th>\n",
       "      <th></th>\n",
       "      <th></th>\n",
       "      <th></th>\n",
       "    </tr>\n",
       "  </thead>\n",
       "  <tbody>\n",
       "    <tr>\n",
       "      <th>1997-11-12</th>\n",
       "      <td>0.00</td>\n",
       "      <td>6.666667</td>\n",
       "      <td>-5.000000</td>\n",
       "      <td>11.666667</td>\n",
       "      <td>0.033404</td>\n",
       "      <td>1997-11-12</td>\n",
       "      <td>316.0</td>\n",
       "      <td>11</td>\n",
       "      <td>0.833333</td>\n",
       "      <td>0.833333</td>\n",
       "    </tr>\n",
       "    <tr>\n",
       "      <th>1997-11-13</th>\n",
       "      <td>0.00</td>\n",
       "      <td>5.000000</td>\n",
       "      <td>-5.555556</td>\n",
       "      <td>10.555556</td>\n",
       "      <td>0.027742</td>\n",
       "      <td>1997-11-13</td>\n",
       "      <td>317.0</td>\n",
       "      <td>11</td>\n",
       "      <td>-0.277778</td>\n",
       "      <td>-0.277778</td>\n",
       "    </tr>\n",
       "    <tr>\n",
       "      <th>1997-11-14</th>\n",
       "      <td>0.27</td>\n",
       "      <td>2.222222</td>\n",
       "      <td>-2.777778</td>\n",
       "      <td>5.000000</td>\n",
       "      <td>0.024912</td>\n",
       "      <td>1997-11-14</td>\n",
       "      <td>318.0</td>\n",
       "      <td>11</td>\n",
       "      <td>-0.277778</td>\n",
       "      <td>-0.277778</td>\n",
       "    </tr>\n",
       "    <tr>\n",
       "      <th>1997-11-15</th>\n",
       "      <td>1.23</td>\n",
       "      <td>1.666667</td>\n",
       "      <td>-2.222222</td>\n",
       "      <td>3.888889</td>\n",
       "      <td>0.023213</td>\n",
       "      <td>1997-11-15</td>\n",
       "      <td>319.0</td>\n",
       "      <td>11</td>\n",
       "      <td>-0.277778</td>\n",
       "      <td>-0.277778</td>\n",
       "    </tr>\n",
       "    <tr>\n",
       "      <th>1997-11-16</th>\n",
       "      <td>0.00</td>\n",
       "      <td>3.333333</td>\n",
       "      <td>-3.888889</td>\n",
       "      <td>7.222222</td>\n",
       "      <td>0.022647</td>\n",
       "      <td>1997-11-16</td>\n",
       "      <td>320.0</td>\n",
       "      <td>11</td>\n",
       "      <td>-0.277778</td>\n",
       "      <td>-0.277778</td>\n",
       "    </tr>\n",
       "  </tbody>\n",
       "</table>\n",
       "</div>"
      ],
      "text/plain": [
       "            PRCP    Tmax_C    Tmin_C      delta      Qobs       Date  julian  \\\n",
       "date                                                                           \n",
       "1997-11-12  0.00  6.666667 -5.000000  11.666667  0.033404 1997-11-12   316.0   \n",
       "1997-11-13  0.00  5.000000 -5.555556  10.555556  0.027742 1997-11-13   317.0   \n",
       "1997-11-14  0.27  2.222222 -2.777778   5.000000  0.024912 1997-11-14   318.0   \n",
       "1997-11-15  1.23  1.666667 -2.222222   3.888889  0.023213 1997-11-15   319.0   \n",
       "1997-11-16  0.00  3.333333 -3.888889   7.222222  0.022647 1997-11-16   320.0   \n",
       "\n",
       "            month      Tave    Tave_C  \n",
       "date                                   \n",
       "1997-11-12     11  0.833333  0.833333  \n",
       "1997-11-13     11 -0.277778 -0.277778  \n",
       "1997-11-14     11 -0.277778 -0.277778  \n",
       "1997-11-15     11 -0.277778 -0.277778  \n",
       "1997-11-16     11 -0.277778 -0.277778  "
      ]
     },
     "execution_count": 34,
     "metadata": {},
     "output_type": "execute_result"
    }
   ],
   "source": [
    "Q_P['Tave_C']=(Q_P['Tmax_C']+Q_P['Tmin_C'])/2\n",
    "Q_P.head()"
   ]
  },
  {
   "cell_type": "code",
   "execution_count": 17,
   "metadata": {},
   "outputs": [
    {
     "data": {
      "text/plain": [
       "Text(0.5,1,'PRISM and Walpole NCDC Precipitation')"
      ]
     },
     "execution_count": 17,
     "metadata": {},
     "output_type": "execute_result"
    },
    {
     "data": {
      "image/png": "[encoded data removed]",
      "text/plain": [
       "<Figure size 432x288 with 1 Axes>"
      ]
     },
     "metadata": {},
     "output_type": "display_data"
    }
   ],
   "source": [
    "Q_P['PRCP'].plot()\n",
    "PRISM['ppt (inches)'].plot()\n",
    "plt.legend()\n",
    "plt.title('PRISM and Walpole NCDC Precipitation')"
   ]
  },
  {
   "cell_type": "code",
   "execution_count": 18,
   "metadata": {},
   "outputs": [
    {
     "name": "stdout",
     "output_type": "stream",
     "text": [
      " average NCDC: 0.13859251968503783\n",
      "average PRISM: 0.13888984088127185\n",
      " variance NCDC: 0.13856408249356236\n",
      "variance PRISM: 0.13298022167422824\n"
     ]
    }
   ],
   "source": [
    "print(' average NCDC:',Q_P['PRCP'].mean())\n",
    "print('average PRISM:', PRISM['ppt (inches)'].mean())\n",
    "print(' variance NCDC:',Q_P['PRCP'].var())\n",
    "print('variance PRISM:', PRISM['ppt (inches)'].var())"
   ]
  },
  {
   "cell_type": "code",
   "execution_count": 19,
   "metadata": {},
   "outputs": [
    {
     "data": {
      "text/plain": [
       "8128"
      ]
     },
     "execution_count": 19,
     "metadata": {},
     "output_type": "execute_result"
    }
   ],
   "source": [
    "Q_P['julian']=Q_P['Date'].dt.strftime('%j')\n",
    "#df['DataFrame Column'] = df['DataFrame Column'].astype(float)\n",
    "Q_P['julian']=Q_P['julian'].astype(float)\n",
    "Julian_date=np.array(Q_P['julian'].values.tolist())\n",
    "len(Julian_date)"
   ]
  },
  {
   "cell_type": "code",
   "execution_count": 20,
   "metadata": {},
   "outputs": [],
   "source": [
    "# site inputs latitude\n",
    "lat=0.735847 #radians or 42.1609 decimal degrees\n"
   ]
  },
  {
   "cell_type": "code",
   "execution_count": 44,
   "metadata": {},
   "outputs": [],
   "source": [
    "# preparing input arrays\n",
    "PE=PET(lat,Julian_date,Tmax,Tmin)\n",
    "\n",
    "precip=np.array(Q_P['PRCP'].values.tolist())\n",
    "Tmax=np.array(Q_P['Tmax_C'].values.tolist())\n",
    "Tave=np.array(Q_P['Tave_C'].values.tolist())\n",
    "Tmin=np.array(Q_P['Tmin_C'].values.tolist())\n",
    "Q_obs=Q_P['Qobs']\n",
    "Q_obs=np.array(Q_obs.values.tolist())\n"
   ]
  },
  {
   "cell_type": "markdown",
   "metadata": {},
   "source": [
    "### generation of period vector"
   ]
  },
  {
   "cell_type": "code",
   "execution_count": 22,
   "metadata": {},
   "outputs": [
    {
     "data": {
      "text/html": [
       "<div>\n",
       "<style scoped>\n",
       "    .dataframe tbody tr th:only-of-type {\n",
       "        vertical-align: middle;\n",
       "    }\n",
       "\n",
       "    .dataframe tbody tr th {\n",
       "        vertical-align: top;\n",
       "    }\n",
       "\n",
       "    .dataframe thead th {\n",
       "        text-align: right;\n",
       "    }\n",
       "</style>\n",
       "<table border=\"1\" class=\"dataframe\">\n",
       "  <thead>\n",
       "    <tr style=\"text-align: right;\">\n",
       "      <th></th>\n",
       "      <th>PRCP</th>\n",
       "      <th>Tmax_C</th>\n",
       "      <th>Tmin_C</th>\n",
       "      <th>delta</th>\n",
       "      <th>Qobs</th>\n",
       "      <th>Date</th>\n",
       "      <th>julian</th>\n",
       "      <th>month</th>\n",
       "    </tr>\n",
       "    <tr>\n",
       "      <th>date</th>\n",
       "      <th></th>\n",
       "      <th></th>\n",
       "      <th></th>\n",
       "      <th></th>\n",
       "      <th></th>\n",
       "      <th></th>\n",
       "      <th></th>\n",
       "      <th></th>\n",
       "    </tr>\n",
       "  </thead>\n",
       "  <tbody>\n",
       "    <tr>\n",
       "      <th>1997-11-12</th>\n",
       "      <td>0.00</td>\n",
       "      <td>6.666667</td>\n",
       "      <td>-5.000000</td>\n",
       "      <td>11.666667</td>\n",
       "      <td>0.033404</td>\n",
       "      <td>1997-11-12</td>\n",
       "      <td>316.0</td>\n",
       "      <td>11</td>\n",
       "    </tr>\n",
       "    <tr>\n",
       "      <th>1997-11-13</th>\n",
       "      <td>0.00</td>\n",
       "      <td>5.000000</td>\n",
       "      <td>-5.555556</td>\n",
       "      <td>10.555556</td>\n",
       "      <td>0.027742</td>\n",
       "      <td>1997-11-13</td>\n",
       "      <td>317.0</td>\n",
       "      <td>11</td>\n",
       "    </tr>\n",
       "    <tr>\n",
       "      <th>1997-11-14</th>\n",
       "      <td>0.27</td>\n",
       "      <td>2.222222</td>\n",
       "      <td>-2.777778</td>\n",
       "      <td>5.000000</td>\n",
       "      <td>0.024912</td>\n",
       "      <td>1997-11-14</td>\n",
       "      <td>318.0</td>\n",
       "      <td>11</td>\n",
       "    </tr>\n",
       "    <tr>\n",
       "      <th>1997-11-15</th>\n",
       "      <td>1.23</td>\n",
       "      <td>1.666667</td>\n",
       "      <td>-2.222222</td>\n",
       "      <td>3.888889</td>\n",
       "      <td>0.023213</td>\n",
       "      <td>1997-11-15</td>\n",
       "      <td>319.0</td>\n",
       "      <td>11</td>\n",
       "    </tr>\n",
       "    <tr>\n",
       "      <th>1997-11-16</th>\n",
       "      <td>0.00</td>\n",
       "      <td>3.333333</td>\n",
       "      <td>-3.888889</td>\n",
       "      <td>7.222222</td>\n",
       "      <td>0.022647</td>\n",
       "      <td>1997-11-16</td>\n",
       "      <td>320.0</td>\n",
       "      <td>11</td>\n",
       "    </tr>\n",
       "  </tbody>\n",
       "</table>\n",
       "</div>"
      ],
      "text/plain": [
       "            PRCP    Tmax_C    Tmin_C      delta      Qobs       Date  julian  \\\n",
       "date                                                                           \n",
       "1997-11-12  0.00  6.666667 -5.000000  11.666667  0.033404 1997-11-12   316.0   \n",
       "1997-11-13  0.00  5.000000 -5.555556  10.555556  0.027742 1997-11-13   317.0   \n",
       "1997-11-14  0.27  2.222222 -2.777778   5.000000  0.024912 1997-11-14   318.0   \n",
       "1997-11-15  1.23  1.666667 -2.222222   3.888889  0.023213 1997-11-15   319.0   \n",
       "1997-11-16  0.00  3.333333 -3.888889   7.222222  0.022647 1997-11-16   320.0   \n",
       "\n",
       "            month  \n",
       "date               \n",
       "1997-11-12     11  \n",
       "1997-11-13     11  \n",
       "1997-11-14     11  \n",
       "1997-11-15     11  \n",
       "1997-11-16     11  "
      ]
     },
     "execution_count": 22,
     "metadata": {},
     "output_type": "execute_result"
    }
   ],
   "source": [
    "Q_P['month'] = pd.DatetimeIndex(Q_P['Date']).month\n",
    "Month_vector=np.array(Q_P['month'].values.tolist())-1\n",
    "Q_P.head()"
   ]
  },
  {
   "cell_type": "markdown",
   "metadata": {},
   "source": [
    "# calibration process"
   ]
  },
  {
   "cell_type": "code",
   "execution_count": null,
   "metadata": {},
   "outputs": [],
   "source": [
    "# performing calibration process from 1997 to 2008 and validation from 2008 to 2020"
   ]
  },
  {
   "cell_type": "code",
   "execution_count": 95,
   "metadata": {},
   "outputs": [],
   "source": [
    "precip_cal=precip[0:4064]\n",
    "precip_val=precip[4064:]\n",
    "Tmax_cal=Tmax[0:4064]\n",
    "Tmax_val=Tmax[4064:]\n",
    "Tave_cal=Tave[0:4064]\n",
    "Tave_val=Tave[4064:]\n",
    "Tmin_cal=Tmin[0:4064]\n",
    "Tmin_val=Tmin[4064:]\n",
    "PE_cal=PE[0:4064]\n",
    "PE_val=PE[4064:]\n",
    "Q_obs_cal=Q_obs[0:4064]\n",
    "Q_obs_val=Q_obs[4064:]"
   ]
  },
  {
   "cell_type": "code",
   "execution_count": 106,
   "metadata": {},
   "outputs": [],
   "source": [
    "# generating the objective function for optimization\n",
    "\n",
    "def LBE_objective(abcde):\n",
    "    \"\"\"\"\n",
    "    abcde=[a,b,c,d,emax,emin,Tbm]\n",
    "    \"\"\"\n",
    "    alpha=abcde[0:4]\n",
    "    emax=abcde[4]\n",
    "    emin=abcde[5]\n",
    "    Tbm=abcde[6]\n",
    "    e=e_fun(emax,emin,Julian_date)\n",
    "    Precip=SnowMelt(precip_cal,Tmax_cal,emax,emin,Julian_date,Tb,Tbm)\n",
    "    Qs,Ys,Gs,Ss=ABCD(Precip,PE,alpha)\n",
    "    E=LBEm(Qs,Q_obs_cal,Month_vector[0:4064],prime=False)\n",
    "    return -E\n",
    "\n"
   ]
  },
  {
   "cell_type": "code",
   "execution_count": 107,
   "metadata": {},
   "outputs": [
    {
     "name": "stderr",
     "output_type": "stream",
     "text": [
      "C:\\Users\\ghaza\\Anaconda3\\lib\\site-packages\\ipykernel_launcher.py:63: RuntimeWarning: divide by zero encountered in log\n",
      "C:\\Users\\ghaza\\Anaconda3\\lib\\site-packages\\numpy\\core\\_methods.py:112: RuntimeWarning: invalid value encountered in subtract\n",
      "  x = asanyarray(arr - arrmean)\n",
      "C:\\Users\\ghaza\\Anaconda3\\lib\\site-packages\\numpy\\lib\\function_base.py:3103: RuntimeWarning: invalid value encountered in subtract\n",
      "  X -= avg[:, None]\n"
     ]
    },
    {
     "data": {
      "text/plain": [
       "      fun: -0.6642762189371836\n",
       " hess_inv: <7x7 LbfgsInvHessProduct with dtype=float64>\n",
       "      jac: array([-3.38813178e+00,  1.79234405e-04, -1.67754699e-05,  6.90905830e+01,\n",
       "        7.60278507e-03,  7.60278507e-03, -1.03935749e-03])\n",
       "  message: b'CONVERGENCE: REL_REDUCTION_OF_F_<=_FACTR*EPSMCH'\n",
       "     nfev: 2112\n",
       "      nit: 108\n",
       "   status: 0\n",
       "  success: True\n",
       "        x: array([9.90000000e-01, 1.10846740e+01, 1.63417478e-01, 0.00000000e+00,\n",
       "       2.86657243e-03, 7.39917879e-04, 5.03110441e-02])"
      ]
     },
     "execution_count": 107,
     "metadata": {},
     "output_type": "execute_result"
    }
   ],
   "source": [
    "# optimization for LBE\n",
    "from scipy.optimize import minimize\n",
    "\n",
    "a_bnd=(0.95,0.99)\n",
    "c_bnd=(0,1)\n",
    "b_bnd=(0,np.inf)\n",
    "d_bnd=(0,1)\n",
    "emax_bnd=(0,1)\n",
    "emin_bnd=(0,1)\n",
    "Tbm_bnd=(-2,2)\n",
    "\n",
    "bnds=(a_bnd,b_bnd,c_bnd,d_bnd,emax_bnd,emin_bnd,Tbm_bnd)\n",
    "Tb=0\n",
    "res=minimize(LBE_objective,x0=[0.95,8,0,0,0.058,0,0],bounds=bnds)\n",
    "res"
   ]
  },
  {
   "cell_type": "code",
   "execution_count": 109,
   "metadata": {},
   "outputs": [
    {
     "data": {
      "text/plain": [
       "8128"
      ]
     },
     "execution_count": 109,
     "metadata": {},
     "output_type": "execute_result"
    }
   ],
   "source": [
    "\n",
    "Precip=SnowMelt(precip,Tmin,res.x[4],res.x[5],Julian_date,Tb,res.x[6])\n",
    "\n",
    "Qs,ys,ground,soil=ABCD(Precip,PE,res.x[0:4])\n",
    "len(Qs)"
   ]
  },
  {
   "cell_type": "code",
   "execution_count": 110,
   "metadata": {},
   "outputs": [
    {
     "data": {
      "text/plain": [
       "0.9575265322873945"
      ]
     },
     "execution_count": 110,
     "metadata": {},
     "output_type": "execute_result"
    }
   ],
   "source": [
    "NSE(Qs[0:4064],Q_obs_cal)"
   ]
  },
  {
   "cell_type": "code",
   "execution_count": 120,
   "metadata": {},
   "outputs": [
    {
     "data": {
      "text/plain": [
       "0.44946702868966526"
      ]
     },
     "execution_count": 120,
     "metadata": {},
     "output_type": "execute_result"
    }
   ],
   "source": [
    "lnse=NSE(LN3_trans(Qs[0:4064])[0],LN3_trans(Q_obs_cal)[0])\n",
    "lnse"
   ]
  },
  {
   "cell_type": "code",
   "execution_count": 112,
   "metadata": {},
   "outputs": [
    {
     "data": {
      "text/plain": [
       "8128"
      ]
     },
     "execution_count": 112,
     "metadata": {},
     "output_type": "execute_result"
    }
   ],
   "source": [
    "Qsim = Qs.tolist()\n",
    "len(Qsim)"
   ]
  },
  {
   "cell_type": "code",
   "execution_count": 114,
   "metadata": {},
   "outputs": [
    {
     "name": "stderr",
     "output_type": "stream",
     "text": [
      "C:\\Users\\ghaza\\Anaconda3\\lib\\site-packages\\ipykernel_launcher.py:2: RuntimeWarning: divide by zero encountered in log\n",
      "  \n"
     ]
    }
   ],
   "source": [
    "Q_P['Qsim']=Qsim\n",
    "Q_P['LQsim']=np.log(Qsim)\n",
    "Q_P['LQobs']=np.log(Q_obs)\n",
    "Q_P.head()\n",
    "Q_P.to_csv('Q_P.csv')"
   ]
  },
  {
   "cell_type": "code",
   "execution_count": 115,
   "metadata": {},
   "outputs": [
    {
     "data": {
      "text/plain": [
       "Text(0.5,1,'Snow Melt + precipitation ')"
      ]
     },
     "execution_count": 115,
     "metadata": {},
     "output_type": "execute_result"
    },
    {
     "data": {
      "image/png": "[encoded data removed]",
      "text/plain": [
       "<Figure size 432x288 with 1 Axes>"
      ]
     },
     "metadata": {},
     "output_type": "display_data"
    },
    {
     "data": {
      "image/png": "[encoded data removed]",
      "text/plain": [
       "<Figure size 432x288 with 1 Axes>"
      ]
     },
     "metadata": {},
     "output_type": "display_data"
    }
   ],
   "source": [
    "Pe=Precip.tolist()\n",
    "Q_P['equivalent p']=Pe\n",
    "plt.figure()\n",
    "Q_P['PRCP'].loc['11-12-2005':'11-12-2006'].plot()\n",
    "plt.title('precipitation ')\n",
    "plt.figure()\n",
    "Q_P['equivalent p'].loc['11-12-2005':'11-12-2006'].plot()\n",
    "plt.title('Snow Melt + precipitation ')"
   ]
  },
  {
   "cell_type": "code",
   "execution_count": 116,
   "metadata": {},
   "outputs": [],
   "source": [
    "Qsim_2003=Q_P['Qsim'].loc['11-12-2003':'11-12-2004']\n",
    "Qobs_2003=Q_P['Qobs'].loc['11-12-2003':'11-12-2004']"
   ]
  },
  {
   "cell_type": "code",
   "execution_count": 117,
   "metadata": {},
   "outputs": [
    {
     "data": {
      "text/plain": [
       "Text(0.5,1,'years 2003 to 2004')"
      ]
     },
     "execution_count": 117,
     "metadata": {},
     "output_type": "execute_result"
    },
    {
     "data": {
      "image/png": "[encoded data removed]",
      "text/plain": [
       "<Figure size 432x288 with 1 Axes>"
      ]
     },
     "metadata": {},
     "output_type": "display_data"
    }
   ],
   "source": [
    "Qsim_2003.plot()\n",
    "Qobs_2003.plot()\n",
    "plt.legend()\n",
    "plt.ylabel('streamflow, inches')\n",
    "plt.title('years 2003 to 2004')"
   ]
  },
  {
   "cell_type": "code",
   "execution_count": 118,
   "metadata": {},
   "outputs": [],
   "source": [
    "LQsim_2003=Q_P['LQsim'].loc['11-12-2003':'11-12-2004']\n",
    "LQobs_2003=Q_P['LQobs'].loc['11-12-2003':'11-12-2004']"
   ]
  },
  {
   "cell_type": "code",
   "execution_count": 119,
   "metadata": {},
   "outputs": [
    {
     "data": {
      "text/plain": [
       "Text(0.5,1,'years 2003 to 2004')"
      ]
     },
     "execution_count": 119,
     "metadata": {},
     "output_type": "execute_result"
    },
    {
     "data": {
      "image/png": "[encoded data removed]",
      "text/plain": [
       "<Figure size 432x288 with 1 Axes>"
      ]
     },
     "metadata": {},
     "output_type": "display_data"
    }
   ],
   "source": [
    "LQsim_2003.plot()\n",
    "LQobs_2003.plot()\n",
    "plt.legend()\n",
    "plt.ylabel('Log space streamflow, inches')\n",
    "plt.title('years 2003 to 2004')"
   ]
  },
  {
   "cell_type": "code",
   "execution_count": 69,
   "metadata": {},
   "outputs": [],
   "source": [
    "Ground=ground.tolist()\n",
    "Soil=soil.tolist()\n",
    "Q_P['Ground']=Ground\n",
    "Q_P['Soil']=Soil"
   ]
  },
  {
   "cell_type": "code",
   "execution_count": 70,
   "metadata": {},
   "outputs": [],
   "source": [
    "Ground_2003=Q_P['Ground'].loc['11-12-2003':'11-12-2004']\n",
    "Soil_2003=Q_P['Soil'].loc['11-12-2003':'11-12-2004']"
   ]
  },
  {
   "cell_type": "code",
   "execution_count": 71,
   "metadata": {},
   "outputs": [
    {
     "data": {
      "text/plain": [
       "Text(0.5,1,'years 2005 to 2006')"
      ]
     },
     "execution_count": 71,
     "metadata": {},
     "output_type": "execute_result"
    },
    {
     "data": {
      "image/png": "[encoded data removed]",
      "text/plain": [
       "<Figure size 432x288 with 1 Axes>"
      ]
     },
     "metadata": {},
     "output_type": "display_data"
    }
   ],
   "source": [
    "Ground_2003.plot()\n",
    "Soil_2003.plot()\n",
    "plt.legend()\n",
    "plt.ylabel('GW and soil moisture, inches')\n",
    "plt.title('years 2005 to 2006')"
   ]
  },
  {
   "cell_type": "markdown",
   "metadata": {},
   "source": [
    "# Validation"
   ]
  },
  {
   "cell_type": "code",
   "execution_count": 78,
   "metadata": {},
   "outputs": [],
   "source": [
    "Precip=SnowMelt(precip_val,Tmax_val,res.x[4],res.x[5],Julian_date,Tb,res.x[6])\n",
    "Qs,ys,ground,soil=ABCD(Precip,PE_val,res.x[0:4])"
   ]
  },
  {
   "cell_type": "code",
   "execution_count": 80,
   "metadata": {},
   "outputs": [
    {
     "name": "stdout",
     "output_type": "stream",
     "text": [
      "validation LBEm= 0.491650247774247\n",
      "validation NSE= 0.961062376153828\n",
      "validation LNSE= 0.5234891105888677\n"
     ]
    }
   ],
   "source": [
    "validation_LBEm=LBEm(Qs,Q_obs_val,Month_vector[4064:],prime=False)\n",
    "#LBEm(S,O,period,prime=False)\n",
    "print('validation LBEm=',validation_LBEm)\n",
    "validation_NSE=NSE(Qs,Q_obs_val)\n",
    "print('validation NSE=',validation_NSE)\n",
    "validation_LNSE=NSE(LN3_trans(Qs)[0],LN3_trans(Q_obs_val)[0])\n",
    "print('validation LNSE=',validation_LNSE)"
   ]
  },
  {
   "cell_type": "code",
   "execution_count": 90,
   "metadata": {},
   "outputs": [],
   "source": [
    "Qsim_2018=Q_P['Qsim'].loc['11-12-2018':'11-12-2019']\n",
    "Qobs_2018=Q_P['Qobs'].loc['11-12-2018':'11-12-2019']"
   ]
  },
  {
   "cell_type": "code",
   "execution_count": 91,
   "metadata": {},
   "outputs": [
    {
     "data": {
      "text/plain": [
       "<matplotlib.legend.Legend at 0x13c940ef6a0>"
      ]
     },
     "execution_count": 91,
     "metadata": {},
     "output_type": "execute_result"
    },
    {
     "data": {
      "image/png": "[encoded data removed]",
      "text/plain": [
       "<Figure size 432x288 with 1 Axes>"
      ]
     },
     "metadata": {},
     "output_type": "display_data"
    }
   ],
   "source": [
    "Qsim_2018.plot()\n",
    "Qobs_2018.plot()\n",
    "plt.legend()"
   ]
  },
  {
   "cell_type": "code",
   "execution_count": 93,
   "metadata": {},
   "outputs": [],
   "source": [
    "LQsim_2018=Q_P['LQsim'].loc['11-12-2018':'11-12-2019']\n",
    "LQobs_2018=Q_P['LQobs'].loc['11-12-2018':'11-12-2019']"
   ]
  },
  {
   "cell_type": "code",
   "execution_count": 94,
   "metadata": {},
   "outputs": [
    {
     "data": {
      "text/plain": [
       "Text(0.5,1,'years 2018 to 2019')"
      ]
     },
     "execution_count": 94,
     "metadata": {},
     "output_type": "execute_result"
    },
    {
     "data": {
      "image/png": "[encoded data removed]",
      "text/plain": [
       "<Figure size 432x288 with 1 Axes>"
      ]
     },
     "metadata": {},
     "output_type": "display_data"
    }
   ],
   "source": [
    "LQsim_2018.plot()\n",
    "LQobs_2018.plot()\n",
    "plt.legend()\n",
    "plt.ylabel('Log space streamflow, inches')\n",
    "plt.title('years 2018 to 2019')"
   ]
  },
  {
   "cell_type": "code",
   "execution_count": null,
   "metadata": {},
   "outputs": [],
   "source": []
  }
 ],
 "metadata": {
  "kernelspec": {
   "display_name": "Python 3",
   "language": "python",
   "name": "python3"
  },
  "language_info": {
   "codemirror_mode": {
    "name": "ipython",
    "version": 3
   },
   "file_extension": ".py",
   "mimetype": "text/x-python",
   "name": "python",
   "nbconvert_exporter": "python",
   "pygments_lexer": "ipython3",
   "version": "3.6.5"
  }
 },
 "nbformat": 4,
 "nbformat_minor": 2
}
